{
 "cells": [
  {
   "cell_type": "markdown",
   "metadata": {},
   "source": [
    "# Introduction to DDalphaAMG via Lyncs\n",
    "\n",
    "## Initialization\n",
    "\n",
    "DDalphaAMG requires dask to run in parallel with MPI.\n",
    "For doing so, we need to start dark-mpi on N+1 processes where N are the workers and 1 is dedicated to the scheduler."
   ]
  },
  {
   "cell_type": "code",
   "execution_count": 15,
   "metadata": {},
   "outputs": [],
   "source": [
    "import sh\n",
    "# Since dask-mpi produces several file we create a temporary directory\n",
    "tmp_dir = \".tmp\"\n",
    "sh.mkdir(\"-p\", tmp_dir)\n",
    "sh.rm(\"-R\", \"-f\", tmp_dir+\"/*\") \n",
    "sh.cd(\".tmp\")\n",
    "\n",
    "# This is the number of workers\n",
    "N = 8\n",
    "sh.mpirun(\"-n\", N+1, \"dask-mpi\", \"--no-nanny\",\n",
    "          \"--scheduler-file\", \"scheduler.json\",\n",
    "          _bg = True, _out=\"log.out\", _err=\"log.err\")\n",
    "sh.cd(\"..\")"
   ]
  },
  {
   "cell_type": "markdown",
   "metadata": {},
   "source": [
    "Now we can connect to the dask-mpi server using the dask client"
   ]
  },
  {
   "cell_type": "code",
   "execution_count": 17,
   "metadata": {},
   "outputs": [
    {
     "data": {
      "text/html": [
       "<table style=\"border: 2px solid white;\">\n",
       "<tr>\n",
       "<td style=\"vertical-align: top; border: 0px solid white\">\n",
       "<h3 style=\"text-align: left;\">Client</h3>\n",
       "<ul style=\"text-align: left; list-style: none; margin: 0; padding: 0;\">\n",
       "  <li><b>Scheduler: </b>tcp://10.20.110.9:41090</li>\n",
       "  <li><b>Dashboard: </b><a href='http://10.20.110.9:8787/status' target='_blank'>http://10.20.110.9:8787/status</a>\n",
       "</ul>\n",
       "</td>\n",
       "<td style=\"vertical-align: top; border: 0px solid white\">\n",
       "<h3 style=\"text-align: left;\">Cluster</h3>\n",
       "<ul style=\"text-align: left; list-style:none; margin: 0; padding: 0;\">\n",
       "  <li><b>Workers: </b>8</li>\n",
       "  <li><b>Cores: </b>256</li>\n",
       "  <li><b>Memory: </b>1.08 TB</li>\n",
       "</ul>\n",
       "</td>\n",
       "</tr>\n",
       "</table>"
      ],
      "text/plain": [
       "<Client: 'tcp://10.20.110.9:41090' processes=8 threads=256, memory=1.08 TB>"
      ]
     },
     "execution_count": 17,
     "metadata": {},
     "output_type": "execute_result"
    }
   ],
   "source": [
    "from dask.distributed import Client\n",
    "client = Client(scheduler_file=tmp_dir+\"/scheduler.json\")\n",
    "client"
   ]
  },
  {
   "cell_type": "code",
   "execution_count": 4,
   "metadata": {},
   "outputs": [],
   "source": [
    "## IMPORTANT: before restarting the notebook or exiting, \n",
    "## remember to kill the server by running:\n",
    "# client.shutdown()"
   ]
  },
  {
   "cell_type": "code",
   "execution_count": null,
   "metadata": {},
   "outputs": [],
   "source": []
  }
 ],
 "metadata": {
  "kernelspec": {
   "display_name": "Python 3",
   "language": "python",
   "name": "python3"
  },
  "language_info": {
   "codemirror_mode": {
    "name": "ipython",
    "version": 3
   },
   "file_extension": ".py",
   "mimetype": "text/x-python",
   "name": "python",
   "nbconvert_exporter": "python",
   "pygments_lexer": "ipython3",
   "version": "3.7.4"
  }
 },
 "nbformat": 4,
 "nbformat_minor": 4
}
