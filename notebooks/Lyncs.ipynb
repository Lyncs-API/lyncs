{
 "cells": [
  {
   "cell_type": "markdown",
   "metadata": {},
   "source": [
    "**NOTE:** this notebook can be a presentation. Just run `nbpresent Lyncs.ipynb` for starting the slide show."
   ]
  },
  {
   "cell_type": "markdown",
   "metadata": {
    "ipub": {
     "slide": true
    }
   },
   "source": [
    "# Introduction and motivations\n",
    "\n",
    "Lattice QCD is a highly-computationally intensive research field and access the largest supercomputers in the world.\n",
    "\n",
    "A large variety of LQCD software is available and they differ for several reasons:\n",
    "- **Field theories**: dimensions, groups (SU(3), SU(N), ...)\n",
    "\n",
    "- **Fermion discretizations**: Wilson, Twisted Mass, Staggered, Domain Walls, ...\n",
    "\n",
    "- **Algorithms**: simulations, solvers, contractions, ...\n",
    "\n",
    "- **Computing Architecture**: CPUs, GPUs, KNLs, NVIDIA, Intel, ARM, ...\n",
    "\n",
    "- **Programming Language**: C, C++, CUDA, ...\n",
    "\n",
    "- ***Programming Model***: Kokkos, OpenCL, ...\n",
    "\n",
    "- **Collaborations**: USQCD, UKQCD, ETMC, BMW, ...\n"
   ]
  },
  {
   "cell_type": "markdown",
   "metadata": {
    "ipub": {
     "slide": true
    }
   },
   "source": [
    "## Towards community codes\n",
    "\n",
    "In the recent years there is an increasing effort for community codes in Lattice QCD.\n",
    "\n",
    "A remarkable example is [QUDA](https://github.com/lattice/quda), supported by NVIDIA, which implements\n",
    "a large variety of highly optimized kernels for GPUs and involves developer all around the world.\n",
    "\n",
    "Important features of community codes are\n",
    "- Clean implementation\n",
    "\n",
    "- Well documented\n",
    "\n",
    "- Fully tested\n",
    "\n",
    "- Backwards compatibility\n",
    "\n",
    "- User-friendly\n",
    "\n",
    "- Open source\n",
    "\n",
    "- User support"
   ]
  },
  {
   "cell_type": "markdown",
   "metadata": {
    "ipub": {
     "slide": true
    }
   },
   "source": [
    "## Standard LQCD approach\n",
    "\n",
    "A standard computational approach for LQCD is **Domain Decomposition** (Distributed Data).\n",
    "\n",
    "This is (*almost*) the only way exploited for scaling on supercomputers.\n",
    "\n",
    "But recent algorithms and architectures limit significantly the scaling of LQCD calculations.\n",
    "\n",
    "**Multigrid methods** have been one of the major breaking point. \n",
    "\n",
    "<h2>Alternatives</h2>\n",
    "\n",
    "- **Task parallelism**: Independent tasks are executed at the same time\n",
    "\n",
    "- **Pipeline parallelism**: Dependent tasks are pipelined and executed in parallel on chunks of data"
   ]
  },
  {
   "cell_type": "markdown",
   "metadata": {
    "ipub": {
     "slide": true
    }
   },
   "source": [
    "## Simulations vs Measurements\n",
    "\n",
    "LQCD calculations usually proceed in two steps\n",
    "\n",
    "- **Production of configurations**: sequential jobs where a configuration depends on the previous\n",
    "\n",
    "- **Measurement of observables**: a set of configurations is analyzed and can be done in parallel\n",
    "\n",
    "The measurement of observables allows for a large task parallelism also within a single configuration.\n",
    "\n",
    "The production of configurations on the other hand is highly serial and current algorithms have not large space for improvements.\n",
    "\n",
    "<h3> Our road-map </h3>\n",
    "\n",
    "1. Write a simulation code that can exploits task parallelism\n",
    "\n",
    "2. Develop simulation algorithms that allow for higher task parallelism\n"
   ]
  },
  {
   "cell_type": "markdown",
   "metadata": {
    "ipub": {
     "slide": true
    }
   },
   "source": [
    "## How to combine task parallelism with data distribution\n",
    "\n",
    "- An allocation is divided in partitions running on different nodes or different components of a node (e.g. CPU/GPU partition)\n",
    "\n",
    "- Partitions may be overlapping but the execution of tasks should never overlap\n",
    "\n",
    "- Tasks need to wait to be executed until (i) the designed partition is busy or (ii) data from another task is needed.\n",
    "\n",
    "<h3> Parallel Tasks' Manager </h3>\n",
    "\n",
    "**One** process is responsible to submit tasks to the partitions.\n",
    "Tasks are divided in three categories:\n",
    "\n",
    "1. **Preparation:** data management, redistribution, reorder, IO reading, copy to device etc\n",
    "\n",
    "2. **Computation:** execution of the kernel/task managed by external library\n",
    "\n",
    "3. **Finalization:** global reductions, IO writing, etc\n",
    "\n",
    "Preparation and finalization can overlap to other tasks being low-computationally intense"
   ]
  },
  {
   "cell_type": "markdown",
   "metadata": {
    "ipub": {
     "slide": true
    }
   },
   "source": [
    "## Parallel tasks' manager: first attempt\n",
    "<p style=\"display: flex; justify-content: center; text-align: center;\"><img src=\"https://github.com/sbacchio/lyncs/raw/master/docs/source/_static/communications.png\" width=\"600\"/></p>\n"
   ]
  },
  {
   "cell_type": "markdown",
   "metadata": {
    "ipub": {
     "slide": true
    }
   },
   "source": [
    "## Parallel tasks' manager:  Dask\n",
    "\n",
    "\n",
    "[Dask](https://dask.org/) is a pure Python module for parallel computing.\n",
    "\n",
    "Between the numerous features, it offers\n",
    "\n",
    "- **Task scheduling** and parallelism via futures\n",
    "\n",
    "```\n",
    "    client = Client(...)\n",
    "    A = client.submit(fnc1, args)\n",
    "    B = client.submit(fnc2, A, args)\n",
    "```\n",
    "\n",
    "- **Distributed numpy arrays**\n",
    "\n",
    "```\n",
    "    arr = Array(shape=(...), chunks=(...))\n",
    "```\n",
    "\n",
    "- Supports **MPI** and other communicators"
   ]
  },
  {
   "cell_type": "markdown",
   "metadata": {
    "ipub": {
     "slide": true
    }
   },
   "source": [
    "## Automatic Python C++ bindings: cppyy\n",
    "\n",
    "[cppyy](https://cppyy.readthedocs.io/en/latest/) offers automatic Python C++ bindings.\n",
    "It is based on [cling](https://root.cern.ch/cling) (root) and [clang](https://clang.llvm.org/) (llvm).\n",
    "\n",
    "- **Automatic binding**\n",
    "\n",
    "```\n",
    "    cppyy.include(\"header.h\")\n",
    "    cppyy.load_library(\"lib.so\")\n",
    "```\n",
    "\n",
    "- **Automatic casting**\n",
    "\n",
    "- Supports **templates** and overloads\n",
    "\n",
    "```\n",
    "    std.vector(int) -> std::vector<int>\n",
    "```\n",
    "\n",
    "- Python functions/lambdas can be passed as pointers"
   ]
  },
  {
   "cell_type": "markdown",
   "metadata": {
    "ipub": {
     "slide": true
    }
   },
   "source": [
    "# Lyncs, a Python API for Lattice QCD applications"
   ]
  },
  {
   "cell_type": "markdown",
   "metadata": {
    "ipub": {
     "slide": true
    }
   },
   "source": [
    "<p style=\"display: flex; justify-content: center; text-align: center;\"><img src=\"https://github.com/sbacchio/lyncs/blob/master/docs/source/_static/logo.png?raw=true\" width=\"512\"/></p>\n",
    "\n",
    "Installation: `pip install lyncs[all,DDalphaAMG,quda,cpu,gpu,...]`\n",
    "\n",
    "Documentation: [lyncs.readthedocs.io](https://lyncs.readthedocs.io/en/latest/ \"https://lyncs.readthedocs.io/en/latest/\")\n",
    "\n",
    "Available at [github.com/sbacchio/lyncs](https://github.com/sbacchio/lyncs \"https://github.com/sbacchio/lyncs\")"
   ]
  },
  {
   "cell_type": "markdown",
   "metadata": {
    "ipub": {
     "slide": true
    }
   },
   "source": [
    "## Objectives\n",
    "\n",
    "* **Extendible API:** interface to many LQCD libraries within a common framework.\n",
    "\n",
    "* **CI/CD:** automatic continuous integration and deployment on PyPI\n",
    "\n",
    "* **User-friendly:** a particular attention is dedicated to the high-level interface.\n",
    "\n",
    "* **Flexible:** the same calculation can be performed in a number of ways. \n",
    "\n",
    "* **Modular-computing:** multiple tasks can be performed at the same time fully exploiting the cluster allocation.\n",
    "\n",
    "* **Crosschecks:** Automatic crosschecks between different implementations.\n",
    "\n",
    "* **Benchmarks:** Automatic benchmarks of different implementations.\n",
    "\n",
    "* **Tunable:** many computational options can be free parameters that will be tuned at run-time."
   ]
  },
  {
   "cell_type": "markdown",
   "metadata": {
    "ipub": {
     "slide": "notes"
    }
   },
   "source": [
    "## Status: Done\n",
    "* **Design:** decisions on the structure of the API and implementation details\n",
    "\n",
    "* **Dependencies:** investigated the most suitable tools for Lyncs\n",
    "\n",
    "  * **[Dask](https://dask.org/ \"https://dask.org/\"):** \n",
    "  a flexible library for parallel computing in Python.\n",
    "    * Distributed tasks management\n",
    "    * Tasks graph optimization\n",
    "    * Distributed array tools\n",
    "    \n",
    "  * **[cppyy](https://cppyy.readthedocs.io/ \"https://cppyy.readthedocs.io/\"):** \n",
    "  automatic Python-C++ bindings\n",
    "  \n",
    "  * _**[Tune](https://ray.readthedocs.io/en/latest/tune.html \"https://ray.readthedocs.io/en/latest/tune.html\"):**_ \n",
    "  scalable Hyperparameter Tuning\n",
    "  \n",
    "* **First-routines:** important routines of the API have been implemented to test feasibility\n",
    "\n",
    "* **Compilation:** external libraries are automatically downloaded, patched and compiled.\n",
    "\n",
    "* **Installation:** simple installation via pip/conda"
   ]
  },
  {
   "cell_type": "markdown",
   "metadata": {
    "ipub": {
     "slide": "notes"
    }
   },
   "source": [
    "## Status: Planned\n",
    "\n",
    "* **Core:** the main core of the API should be completed in the next month\n",
    "\n",
    "* **Support:** interface to DDalphaAMG, tmLQCD, QUDA, PLEGMA\n",
    "\n",
    "* **First release:** with a limited usage (**milestone**: end of April)\n",
    "\n",
    "* **Tests on DEEP-EST:** granted access to the DEEP-EST cluster (March-November)\n",
    "\n",
    "* **HMC implementation:** high-priority task"
   ]
  },
  {
   "cell_type": "markdown",
   "metadata": {
    "ipub": {
     "slide": true
    }
   },
   "source": [
    "## Definition of the lattice theory\n",
    "\n",
    "The lattice field theory is represented by the `lyncs.Lattice` object.\n",
    "\n",
    "* Here names and sizes of the dimensions of the lattice are defined\n",
    "\n",
    "* Dimensions are divided in \n",
    "\n",
    "  - **dims**: dimensions of variable size\n",
    "  - **dofs**: dimensions of fixed size\n",
    "  - **labels**: dimensions with labeled values which order can change\n",
    "\n",
    "* Dimensions can be grouped under a common name, e.g. `'space' = ('x','y','z')`\n",
    "\n",
    "* Coordinates and maps are also managed by the `Lattice` object\n"
   ]
  },
  {
   "cell_type": "markdown",
   "metadata": {
    "ipub": {
     "slide": true
    }
   },
   "source": [
    "### Example"
   ]
  },
  {
   "cell_type": "code",
   "execution_count": 1,
   "metadata": {
    "ipub": {
     "code": {
      "asfloat": true,
      "format": {},
      "placement": "H",
      "widefigure": false
     },
     "slide": true,
     "text": {
      "asfloat": true,
      "format": {
       "basicstyle": "\\small"
      },
      "placement": "H",
      "use_ansi": false,
      "widefigure": false
     }
    }
   },
   "outputs": [
    {
     "data": {
      "text/plain": [
       "Lattice(dims = {'t': 1, 'x': 1, 'y': 1, 'z': 1},\n",
       "        dofs = {'spin': 4, 'color': 3},\n",
       "        labels = {'dirs': ('t', 'x', 'y', 'z')},\n",
       "        groups = {'time': ('t',), 'space': ('x', 'y', 'z'), 'gauge': ('color',)},\n",
       "        coords = {},\n",
       "        maps = {})"
      ]
     },
     "execution_count": 1,
     "metadata": {},
     "output_type": "execute_result"
    }
   ],
   "source": [
    "import lyncs as ly\n",
    "lattice = ly.Lattice(dims=4, dofs=\"QCD\")\n",
    "lattice"
   ]
  },
  {
   "cell_type": "markdown",
   "metadata": {
    "ipub": {
     "slide": true
    }
   },
   "source": [
    "We have created a four dimensional lattice with dimensions (x,y,z,t) and with the degree of freedom of QCD, i.e. color and spin.\n",
    "\n",
    "The lattice dimensions and properties can be edited in a simple and flexible manner."
   ]
  },
  {
   "cell_type": "code",
   "execution_count": 2,
   "metadata": {
    "ipub": {
     "code": {
      "asfloat": true,
      "format": {},
      "placement": "H",
      "widefigure": false
     },
     "slide": true,
     "text": {
      "asfloat": true,
      "format": {
       "basicstyle": "\\small"
      },
      "placement": "H",
      "use_ansi": false,
      "widefigure": false
     }
    }
   },
   "outputs": [
    {
     "data": {
      "text/plain": [
       "{'t': 8, 'x': 4, 'y': 4, 'z': 4}"
      ]
     },
     "execution_count": 2,
     "metadata": {},
     "output_type": "execute_result"
    }
   ],
   "source": [
    "lattice.t = 8\n",
    "lattice['x'] = 4\n",
    "lattice.space = 4\n",
    "lattice.dims"
   ]
  },
  {
   "cell_type": "markdown",
   "metadata": {
    "ipub": {
     "slide": "new"
    }
   },
   "source": [
    "Coordinates can be added easily:"
   ]
  },
  {
   "cell_type": "code",
   "execution_count": 6,
   "metadata": {
    "ipub": {
     "code": {
      "asfloat": true,
      "format": {},
      "placement": "H",
      "widefigure": false
     },
     "slide": true,
     "text": {
      "asfloat": true,
      "format": {
       "basicstyle": "\\small"
      },
      "placement": "H",
      "use_ansi": false,
      "widefigure": false
     }
    }
   },
   "outputs": [
    {
     "data": {
      "text/plain": [
       "{'t': 0, 'x': 0, 'y': 0, 'z': 0}"
      ]
     },
     "execution_count": 6,
     "metadata": {},
     "output_type": "execute_result"
    }
   ],
   "source": [
    "lattice.add_coord(\"origin\", {\"dims\": 0})\n",
    "lattice.origin"
   ]
  },
  {
   "cell_type": "code",
   "execution_count": 7,
   "metadata": {
    "ipub": {
     "code": {
      "asfloat": true,
      "format": {},
      "placement": "H",
      "widefigure": false
     },
     "slide": true,
     "text": {
      "asfloat": true,
      "format": {
       "basicstyle": "\\small"
      },
      "placement": "H",
      "use_ansi": false,
      "widefigure": false
     }
    }
   },
   "outputs": [
    {
     "data": {
      "text/plain": [
       "{'t': 0, 'x': 2, 'y': 1, 'z': 2}"
      ]
     },
     "execution_count": 7,
     "metadata": {},
     "output_type": "execute_result"
    }
   ],
   "source": [
    "lattice.coords.random_source(label=\"source\")\n",
    "lattice.source"
   ]
  },
  {
   "cell_type": "code",
   "execution_count": 8,
   "metadata": {
    "ipub": {
     "code": {
      "asfloat": true,
      "format": {},
      "placement": "H",
      "widefigure": false
     },
     "slide": true,
     "text": {
      "asfloat": true,
      "format": {
       "basicstyle": "\\small"
      },
      "placement": "H",
      "use_ansi": false,
      "widefigure": false
     }
    }
   },
   "outputs": [
    {
     "data": {
      "text/plain": [
       "{'origin': {'t': 0, 'x': 0, 'y': 0, 'z': 0},\n",
       " 'source': {'t': 0, 'x': 2, 'y': 1, 'z': 2}}"
      ]
     },
     "execution_count": 8,
     "metadata": {},
     "output_type": "execute_result"
    }
   ],
   "source": [
    "lattice.coords"
   ]
  },
  {
   "cell_type": "markdown",
   "metadata": {
    "ipub": {
     "slide": "new"
    }
   },
   "source": [
    "And here an example for a map, e.g. even-odd decomposition"
   ]
  },
  {
   "cell_type": "code",
   "execution_count": 9,
   "metadata": {
    "ipub": {
     "code": {
      "asfloat": true,
      "format": {},
      "placement": "H",
      "widefigure": false
     },
     "slide": true,
     "text": {
      "asfloat": true,
      "format": {
       "basicstyle": "\\small"
      },
      "placement": "H",
      "use_ansi": false,
      "widefigure": false
     }
    }
   },
   "outputs": [
    {
     "data": {
      "text/plain": [
       "Lattice(dims = {'t': 4, 'x': 4, 'y': 4, 'z': 4},\n",
       "        dofs = {'spin': 4, 'color': 3},\n",
       "        labels = {'dirs': ('t', 'x', 'y', 'z'), 'evenodd': ('even', 'odd')},\n",
       "        groups = {'time': ('t',), 'space': ('x', 'y', 'z'), 'gauge': ('color',)},\n",
       "        coords = {},\n",
       "        maps = {})"
      ]
     },
     "execution_count": 9,
     "metadata": {},
     "output_type": "execute_result"
    }
   ],
   "source": [
    "latticeEO = lattice.copy(coords=False)\n",
    "latticeEO.t //=  2\n",
    "latticeEO.add_label(\"evenodd\", [\"even\", \"odd\"])\n",
    "latticeEO"
   ]
  },
  {
   "cell_type": "markdown",
   "metadata": {
    "ipub": {
     "slide": true
    }
   },
   "source": [
    "The mapping function uses annotations to define on which dimensions it acts on:"
   ]
  },
  {
   "cell_type": "code",
   "execution_count": 70,
   "metadata": {
    "ipub": {
     "code": {
      "asfloat": true,
      "format": {},
      "placement": "H",
      "widefigure": false
     },
     "slide": true,
     "text": {
      "asfloat": true,
      "format": {
       "basicstyle": "\\small"
      },
      "placement": "H",
      "use_ansi": false,
      "widefigure": false
     }
    }
   },
   "outputs": [
    {
     "data": {
      "text/plain": [
       "{'pos': 'dims', 'return': ['dims', 'evenodd']}"
      ]
     },
     "execution_count": 70,
     "metadata": {},
     "output_type": "execute_result"
    }
   ],
   "source": [
    "def evenodd(pos: \"dims\") -> [\"dims\", \"evenodd\"]:\n",
    "    val = sum(pos.values())\n",
    "    pos[\"t\"] //= 2\n",
    "    pos[\"evenodd\"] = \"even\" if val % 2 == 0 else \"odd\"\n",
    "    return pos\n",
    "\n",
    "evenodd.__annotations__"
   ]
  },
  {
   "cell_type": "markdown",
   "metadata": {
    "ipub": {
     "slide": "new"
    }
   },
   "source": [
    "The inverse map is"
   ]
  },
  {
   "cell_type": "code",
   "execution_count": 8,
   "metadata": {
    "ipub": {
     "code": {
      "asfloat": true,
      "format": {},
      "placement": "H",
      "widefigure": false
     },
     "slide": true
    }
   },
   "outputs": [],
   "source": [
    "def undo_evenodd(evenodd, pos: \"dims\") -> \"dims\":\n",
    "    pos[\"t\"] *= 2\n",
    "    val = sum(pos.values())\n",
    "    if evenodd != (\"even\" if val % 2 == 0 else \"odd\"):\n",
    "        pos[\"t\"] += 1\n",
    "    return pos"
   ]
  },
  {
   "cell_type": "markdown",
   "metadata": {
    "ipub": {
     "slide": true
    }
   },
   "source": [
    "And we add the mapping between the two lattices in the following way"
   ]
  },
  {
   "cell_type": "code",
   "execution_count": 9,
   "metadata": {
    "ipub": {
     "code": {
      "asfloat": true,
      "format": {},
      "placement": "H",
      "widefigure": false
     },
     "slide": true,
     "text": {
      "asfloat": true,
      "format": {
       "basicstyle": "\\small"
      },
      "placement": "H",
      "use_ansi": false,
      "widefigure": false
     }
    }
   },
   "outputs": [],
   "source": [
    "# lattice.add_map(latticeEO, evenodd, undo_evenodd)\n",
    "# lattice.maps"
   ]
  },
  {
   "cell_type": "markdown",
   "metadata": {
    "ipub": {
     "slide": "new"
    }
   },
   "source": [
    "Now we can apply the map on lattice for obtaining `LatticeEO`"
   ]
  },
  {
   "cell_type": "code",
   "execution_count": 10,
   "metadata": {
    "ipub": {
     "code": {
      "asfloat": true,
      "format": {},
      "placement": "H",
      "widefigure": false
     },
     "slide": true,
     "text": {
      "asfloat": true,
      "format": {
       "basicstyle": "\\small"
      },
      "placement": "H",
      "use_ansi": false,
      "widefigure": false
     }
    }
   },
   "outputs": [
    {
     "data": {
      "text/plain": [
       "Lattice(dims = {'t': 4, 'x': 4, 'y': 4, 'z': 4},\n",
       "        dofs = {'spin': 4, 'color': 3},\n",
       "        labels = {'dirs': ('t', 'x', 'y', 'z'), 'evenodd': ('even', 'odd')},\n",
       "        groups = {'time': ('t',), 'space': ('x', 'y', 'z'), 'gauge': ('color',)},\n",
       "        coords = {},\n",
       "        maps = {})"
      ]
     },
     "execution_count": 10,
     "metadata": {},
     "output_type": "execute_result"
    }
   ],
   "source": [
    "# latticeEO = lattice.apply_map(\"evenodd\")\n",
    "latticeEO"
   ]
  },
  {
   "cell_type": "code",
   "execution_count": 11,
   "metadata": {
    "ipub": {
     "code": {
      "asfloat": true,
      "format": {},
      "placement": "H",
      "widefigure": false
     },
     "slide": true,
     "text": {
      "asfloat": true,
      "format": {
       "basicstyle": "\\small"
      },
      "placement": "H",
      "use_ansi": false,
      "widefigure": false
     }
    }
   },
   "outputs": [],
   "source": [
    "# latticeEO.apply_map(\"undo_evenodd\")"
   ]
  },
  {
   "cell_type": "markdown",
   "metadata": {
    "ipub": {
     "slide": true
    }
   },
   "source": [
    "## Fields on the lattice\n",
    "\n",
    "The second major component of `lyncs` are the Fields, `lyncs.Field`,\n",
    "which are defined on a `lattice` object."
   ]
  },
  {
   "cell_type": "code",
   "execution_count": 12,
   "metadata": {
    "ipub": {
     "code": {
      "asfloat": true,
      "format": {},
      "placement": "H",
      "widefigure": false
     },
     "slide": true,
     "text": {
      "asfloat": true,
      "format": {
       "basicstyle": "\\small",
       "keywordstyle": "\\color{blue}",
       "morekeywords": [
        "Vector",
        "Tunable"
       ]
      },
      "placement": "H",
      "use_ansi": false,
      "widefigure": false
     }
    }
   },
   "outputs": [
    {
     "data": {
      "text/plain": [
       "Sites(value = Tunable(zeros-885e6525ade8a4182145a863000f2f4e),\n",
       "      dtype = dtype('complex128'),\n",
       "      indeces_order = Permutation(('t_0', 'x_0', 'y_0', 'z_0')),\n",
       "      labels_order = (),\n",
       "      axes = ('t', 'x', 'y', 'z'),\n",
       "      lattice = Lattice(dims = {'t': 8, 'x': 4, 'y': 4, 'z': 4}, ... ),\n",
       "      coords = {})"
      ]
     },
     "execution_count": 12,
     "metadata": {},
     "output_type": "execute_result"
    }
   ],
   "source": [
    "field = ly.Field(lattice=lattice, axes=[\"dims\"])\n",
    "field"
   ]
  },
  {
   "cell_type": "markdown",
   "metadata": {
    "ipub": {
     "slide": "new"
    }
   },
   "source": [
    "From the axes we obtain the list of indices of the field which order is **not significant** (see `indeces_order`)."
   ]
  },
  {
   "cell_type": "code",
   "execution_count": 13,
   "metadata": {
    "ipub": {
     "code": {
      "asfloat": true,
      "format": {},
      "placement": "H",
      "widefigure": false
     },
     "slide": true,
     "text": {
      "asfloat": true,
      "format": {},
      "placement": "H",
      "use_ansi": false,
      "widefigure": false
     }
    }
   },
   "outputs": [
    {
     "data": {
      "text/plain": [
       "('t_0', 'x_0', 'y_0', 'z_0')"
      ]
     },
     "execution_count": 13,
     "metadata": {},
     "output_type": "execute_result"
    }
   ],
   "source": [
    "field.indeces"
   ]
  },
  {
   "cell_type": "code",
   "execution_count": 14,
   "metadata": {
    "ipub": {
     "code": {
      "asfloat": true,
      "format": {},
      "placement": "H",
      "widefigure": false
     },
     "slide": true,
     "text": {
      "asfloat": true,
      "format": {
       "basicstyle": "\\small",
       "keywordstyle": "\\color{blue}",
       "morekeywords": [
        "Vector",
        "Tunable"
       ]
      },
      "placement": "H",
      "use_ansi": false,
      "widefigure": false
     }
    }
   },
   "outputs": [
    {
     "data": {
      "text/plain": [
       "(('t_0', 8), ('x_0', 4), ('y_0', 4), ('z_0', 4))"
      ]
     },
     "execution_count": 14,
     "metadata": {},
     "output_type": "execute_result"
    }
   ],
   "source": [
    "field.shape"
   ]
  },
  {
   "cell_type": "code",
   "execution_count": 15,
   "metadata": {
    "ipub": {
     "code": {
      "asfloat": true,
      "format": {},
      "placement": "H",
      "widefigure": false
     },
     "slide": true,
     "text": {
      "asfloat": true,
      "format": {
       "basicstyle": "\\small",
       "keywordstyle": "\\color{blue}",
       "morekeywords": [
        "Vector",
        "Tunable"
       ]
      },
      "placement": "H",
      "use_ansi": false,
      "widefigure": false
     }
    }
   },
   "outputs": [
    {
     "data": {
      "text/plain": [
       "Permutation(('t_0', 'x_0', 'y_0', 'z_0'))"
      ]
     },
     "execution_count": 15,
     "metadata": {},
     "output_type": "execute_result"
    }
   ],
   "source": [
    "field.indeces_order"
   ]
  },
  {
   "cell_type": "markdown",
   "metadata": {
    "ipub": {
     "slide": "new"
    }
   },
   "source": [
    "Depending on the axes, to the field is given a *main* field type"
   ]
  },
  {
   "cell_type": "code",
   "execution_count": 16,
   "metadata": {
    "ipub": {
     "code": {
      "asfloat": true,
      "format": {},
      "placement": "H",
      "widefigure": false
     },
     "slide": true,
     "text": {
      "asfloat": true,
      "format": {
       "basicstyle": "\\small",
       "keywordstyle": "\\color{blue}",
       "morekeywords": [
        "Vector",
        "Tunable"
       ]
      },
      "placement": "H",
      "use_ansi": false,
      "widefigure": false
     }
    }
   },
   "outputs": [
    {
     "data": {
      "text/plain": [
       "'Sites'"
      ]
     },
     "execution_count": 16,
     "metadata": {},
     "output_type": "execute_result"
    }
   ],
   "source": [
    "field.type"
   ]
  },
  {
   "cell_type": "markdown",
   "metadata": {
    "ipub": {
     "slide": true
    }
   },
   "source": [
    "But it's only one of the possible matching field types"
   ]
  },
  {
   "cell_type": "code",
   "execution_count": 17,
   "metadata": {
    "ipub": {
     "code": {
      "asfloat": true,
      "format": {},
      "placement": "H",
      "widefigure": false
     },
     "slide": true,
     "text": {
      "asfloat": true,
      "format": {
       "basicstyle": "\\small",
       "keywordstyle": "\\color{blue}",
       "morekeywords": [
        "Vector",
        "Tunable"
       ]
      },
      "placement": "H",
      "use_ansi": false,
      "widefigure": false
     }
    }
   },
   "outputs": [
    {
     "data": {
      "text/plain": [
       "(('Sites', lyncs.field.types.generic.Sites),\n",
       " ('Scalar', lyncs.field.types.generic.Scalar))"
      ]
     },
     "execution_count": 17,
     "metadata": {},
     "output_type": "execute_result"
    }
   ],
   "source": [
    "field.types"
   ]
  },
  {
   "cell_type": "markdown",
   "metadata": {
    "ipub": {
     "slide": "new"
    }
   },
   "source": [
    "Field Types are defined as a *metaclass* and they used the axes labels to check if a field is instance of the class.\n",
    "\n",
    "Field Types are needed to specify dynamically additional functions acting specifically on those axes,\n",
    "e.g `GaugeLinks` has defined the function `plaquette`."
   ]
  },
  {
   "cell_type": "code",
   "execution_count": 18,
   "metadata": {
    "ipub": {
     "slide": true,
     "text": {
      "asfloat": true,
      "format": {
       "basicstyle": "\\small",
       "keywordstyle": "\\color{blue}",
       "morekeywords": [
        "Vector",
        "Tunable"
       ]
      },
      "placement": "H",
      "use_ansi": false,
      "widefigure": false
     }
    }
   },
   "outputs": [
    {
     "name": "stdout",
     "output_type": "stream",
     "text": [
      "SpinMatrix    ==> ('spin!!',)\n",
      "Spinor        ==> ('spin+',)\n",
      "GaugeLinks    ==> ('dims+', 'dirs+', 'gauge!!')\n",
      "GaugeMatrix   ==> ('gauge!!',)\n",
      "Gauge         ==> ('gauge+',)\n",
      "Propagator    ==> ('dims+', 'dofs!!')\n",
      "Vector        ==> ('dims+', 'dofs!')\n",
      "Links         ==> ('dims+', 'dirs+')\n",
      "Sites         ==> ('dims+',)\n",
      "Degrees       ==> ('dofs+',)\n",
      "Scalar        ==> ()\n"
     ]
    }
   ],
   "source": [
    "for name,field in ly.field.types.base.FieldType.s.items():\n",
    "    print(f'{name:13} ==> {field.__axes__}')"
   ]
  },
  {
   "cell_type": "markdown",
   "metadata": {
    "ipub": {
     "slide": "new"
    }
   },
   "source": [
    "And the different field types can be directly accessed from the lattice"
   ]
  },
  {
   "cell_type": "code",
   "execution_count": 27,
   "metadata": {
    "ipub": {
     "code": {
      "asfloat": true,
      "format": {},
      "placement": "H",
      "widefigure": false
     },
     "slide": true,
     "text": {
      "asfloat": true,
      "format": {
       "basicstyle": "\\small",
       "keywordstyle": "\\color{blue}",
       "morekeywords": [
        "Vector",
        "Tunable"
       ]
      },
      "placement": "H",
      "use_ansi": true,
      "widefigure": false
     }
    }
   },
   "outputs": [
    {
     "name": "stdout",
     "output_type": "stream",
     "text": [
      "('Degrees', 'Field', 'Gauge', 'GaugeLinks', 'GaugeMatrix', 'Links', 'Propagator', 'Scalar', 'Sites', 'SpinMatrix', 'Spinor', 'Vector')\n"
     ]
    }
   ],
   "source": [
    "print(lattice.fields)"
   ]
  },
  {
   "cell_type": "code",
   "execution_count": 28,
   "metadata": {
    "ipub": {
     "code": {
      "asfloat": true,
      "format": {},
      "placement": "H",
      "widefigure": false
     },
     "slide": true,
     "text": {
      "asfloat": true,
      "format": {
       "basicstyle": "\\small",
       "keywordstyle": "\\color{blue}",
       "morekeywords": [
        "Vector",
        "Tunable"
       ]
      },
      "placement": "H",
      "use_ansi": false,
      "widefigure": false
     }
    }
   },
   "outputs": [
    {
     "data": {
      "text/plain": [
       "GaugeLinks(value = Tunable(zeros-1ed51d1717e505ec33c0a0156812812d),\n",
       "           dtype = dtype('complex128'),\n",
       "           indeces_order = Permutation(('t_0', 'x_0', 'y_0', 'z_0', 'dirs_0', 'color_0', 'color_1')),\n",
       "           labels_order = (('dirs_0', Permutation(('t', 'x', 'y', 'z'))),),\n",
       "           axes = ('t', 'x', 'y', 'z', 'dirs', 'color', 'color'),\n",
       "           lattice = Lattice(dims = {'t': 8, 'x': 4, 'y': 4, 'z': 4}, ... ),\n",
       "           coords = {})"
      ]
     },
     "execution_count": 28,
     "metadata": {},
     "output_type": "execute_result"
    }
   ],
   "source": [
    "lattice.GaugeLinks()"
   ]
  },
  {
   "cell_type": "markdown",
   "metadata": {
    "ipub": {
     "slide": true
    }
   },
   "source": [
    "# Tuneit, a Python tool for hyper-parameter tuning\n",
    "\n",
    "<style>\n",
    "   .rendered_html img { display: inline }\n",
    "   .reveal section img { margin: 0px }\n",
    "</style>\n",
    "[![python](https://img.shields.io/pypi/pyversions/tuneit.svg?logo=python)](https://pypi.org/project/tuneit/)\n",
    "[![pypi](https://img.shields.io/pypi/v/tuneit.svg?logo=python)](https://pypi.org/project/tuneit/)\n",
    "[![license](https://img.shields.io/github/license/sbacchio/tuneit?logo=github)](https://github.com/sbacchio/tuneit/blob/master/LICENSE)\n",
    "[![build & test](https://img.shields.io/github/workflow/status/sbacchio/tuneit/Build%20&%20test?logo=github)](https://github.com/sbacchio/tuneit/actions)\n",
    "[![codecov](https://img.shields.io/codecov/c/github/sbacchio/tuneit?logo=codecov)](https://codecov.io/gh/sbacchio/tuneit)\n",
    "\n",
    "Installation: `pip install tuneit`\n",
    "\n",
    "Documentation: [tuneit.readthedocs.io](https://tuneit.readthedocs.io/en/latest/)\n",
    "\n",
    "Available at [github.com/sbacchio/tuneit](https://github.com/sbacchio/tuneit)\n",
    "\n",
    "<h3> Example </h3>"
   ]
  },
  {
   "cell_type": "code",
   "execution_count": 1,
   "metadata": {
    "ipub": {
     "code": {
      "asfloat": true,
      "format": {},
      "placement": "H",
      "widefigure": false
     },
     "figure": {
      "asfloat": true,
      "format": {},
      "placement": "H",
      "use_ansi": false,
      "widefigure": false
     },
     "slide": true
    }
   },
   "outputs": [
    {
     "data": {
      "image/svg+xml": [
       "<?xml version=\"1.0\" encoding=\"UTF-8\" standalone=\"no\"?>\n",
       "<!DOCTYPE svg PUBLIC \"-//W3C//DTD SVG 1.1//EN\"\n",
       " \"http://www.w3.org/Graphics/SVG/1.1/DTD/svg11.dtd\">\n",
       "<!-- Generated by graphviz version 2.40.1 (20161225.0304)\n",
       " -->\n",
       "<!-- Title: %3 Pages: 1 -->\n",
       "<svg width=\"152pt\" height=\"98pt\"\n",
       " viewBox=\"0.00 0.00 152.00 98.00\" xmlns=\"http://www.w3.org/2000/svg\" xmlns:xlink=\"http://www.w3.org/1999/xlink\">\n",
       "<g id=\"graph0\" class=\"graph\" transform=\"scale(1 1) rotate(0) translate(4 94)\">\n",
       "<title>%3</title>\n",
       "<polygon fill=\"#ffffff\" stroke=\"transparent\" points=\"-4,4 -4,-94 148,-94 148,4 -4,4\"/>\n",
       "<!-- mul&#45;740e0222286be93f023d0ceecb2f5ee0 -->\n",
       "<g id=\"node1\" class=\"node\">\n",
       "<title>mul&#45;740e0222286be93f023d0ceecb2f5ee0</title>\n",
       "<ellipse fill=\"none\" stroke=\"#000000\" cx=\"117\" cy=\"-45\" rx=\"27\" ry=\"18\"/>\n",
       "<text text-anchor=\"middle\" x=\"117\" y=\"-41.3\" font-family=\"Times,serif\" font-size=\"14.00\" fill=\"#000000\">*</text>\n",
       "</g>\n",
       "<!-- x&#45;89eda8208d09435e6e824c730653aba0 -->\n",
       "<g id=\"node2\" class=\"node\">\n",
       "<title>x&#45;89eda8208d09435e6e824c730653aba0</title>\n",
       "<polygon fill=\"none\" stroke=\"#ff0000\" points=\"27,-90 0,-72 27,-54 54,-72 27,-90\"/>\n",
       "<text text-anchor=\"middle\" x=\"27\" y=\"-68.3\" font-family=\"Times,serif\" font-size=\"14.00\" fill=\"#000000\">x</text>\n",
       "</g>\n",
       "<!-- x&#45;89eda8208d09435e6e824c730653aba0&#45;&gt;mul&#45;740e0222286be93f023d0ceecb2f5ee0 -->\n",
       "<g id=\"edge1\" class=\"edge\">\n",
       "<title>x&#45;89eda8208d09435e6e824c730653aba0&#45;&gt;mul&#45;740e0222286be93f023d0ceecb2f5ee0</title>\n",
       "<path fill=\"none\" stroke=\"#000000\" d=\"M45.6481,-66.4056C56.2923,-63.2123 69.9737,-59.1079 82.5042,-55.3487\"/>\n",
       "<polygon fill=\"#000000\" stroke=\"#000000\" points=\"83.6541,-58.658 92.2266,-52.432 81.6426,-51.9532 83.6541,-58.658\"/>\n",
       "</g>\n",
       "<!-- y&#45;1443f7a168349c475a47ed48519da667 -->\n",
       "<g id=\"node3\" class=\"node\">\n",
       "<title>y&#45;1443f7a168349c475a47ed48519da667</title>\n",
       "<polygon fill=\"none\" stroke=\"#ff0000\" points=\"27,-36 0,-18 27,0 54,-18 27,-36\"/>\n",
       "<text text-anchor=\"middle\" x=\"27\" y=\"-14.3\" font-family=\"Times,serif\" font-size=\"14.00\" fill=\"#000000\">y</text>\n",
       "</g>\n",
       "<!-- y&#45;1443f7a168349c475a47ed48519da667&#45;&gt;mul&#45;740e0222286be93f023d0ceecb2f5ee0 -->\n",
       "<g id=\"edge2\" class=\"edge\">\n",
       "<title>y&#45;1443f7a168349c475a47ed48519da667&#45;&gt;mul&#45;740e0222286be93f023d0ceecb2f5ee0</title>\n",
       "<path fill=\"none\" stroke=\"#000000\" d=\"M45.6481,-23.5944C56.2923,-26.7877 69.9737,-30.8921 82.5042,-34.6513\"/>\n",
       "<polygon fill=\"#000000\" stroke=\"#000000\" points=\"81.6426,-38.0468 92.2266,-37.568 83.6541,-31.342 81.6426,-38.0468\"/>\n",
       "</g>\n",
       "</g>\n",
       "</svg>\n"
      ],
      "text/plain": [
       "<graphviz.dot.Digraph at 0x7f66e138b0d0>"
      ]
     },
     "execution_count": 1,
     "metadata": {},
     "output_type": "execute_result"
    }
   ],
   "source": [
    "from tuneit import *\n",
    "\n",
    "x = variable( [1, 2, 3, 4] )\n",
    "y = variable( [0.1, 1, 10])\n",
    "\n",
    "visualize( x * y )"
   ]
  },
  {
   "cell_type": "markdown",
   "metadata": {
    "ipub": {
     "slide": "new"
    }
   },
   "source": [
    "With tuneit one can easily construct a computational graph having *variables* as free parameters.\n",
    "\n",
    "The computation can then be:\n",
    "\n",
    "- **sampled**: get the value of the computation varying the parameters\n",
    "\n",
    "- **crosschecked**: check that the computation always gives the same value varying the parameters\n",
    "\n",
    "- **minimized**: find the parameters which give the minimal value\n",
    "\n",
    "- **benchmarked**: time the computation varying the parameters\n",
    "\n",
    "- **tuned**: find the parameters which give the smallest time to solution"
   ]
  },
  {
   "cell_type": "markdown",
   "metadata": {
    "ipub": {
     "slide": true
    }
   },
   "source": [
    "## Interface to hyper-parameter tuners (TODO)\n",
    "\n",
    "The main idea of tuneit is to provide an interface to one or more hyper-parameter tuners in Python.\n",
    "\n",
    "- [scikit-optimize](https://scikit-optimize.github.io/stable/): offers Bayesian Optimization and visualization tools.\n",
    "\n",
    "- [hyperopt](https://hyperopt.github.io/hyperopt/): offers Tree-Parzen Estimators and variants.\n",
    "\n",
    "- [tune (ray-project)](https://docs.ray.io/en/latest/tune.html): interfaces to the two above and many others. Main focus task distribution.\n",
    "\n",
    "These will be used to efficiently tune the computational parameters."
   ]
  },
  {
   "cell_type": "markdown",
   "metadata": {
    "ipub": {
     "slide": true
    }
   },
   "source": [
    "## Example: vector concatenation"
   ]
  },
  {
   "cell_type": "code",
   "execution_count": 1,
   "metadata": {},
   "outputs": [],
   "source": [
    "import numpy\n",
    "import perfplot\n",
    "from matplotlib import pyplot as plt\n",
    "perfplot.main.tqdm = lambda iterable, *args, **kwargs: iterable\n",
    "\n",
    "def double_vector(vec):\n",
    "    vec2 = numpy.ndarray((len(vec), 2))\n",
    "    vec2[:,0] = vec\n",
    "    vec2[:,1] = vec\n",
    "    return vec2\n",
    "\n",
    "out = perfplot.bench(\n",
    "    setup=lambda n: numpy.random.rand(n),\n",
    "    kernels=[\n",
    "        double_vector,\n",
    "        lambda a: numpy.c_[a, a],\n",
    "        lambda a: numpy.stack([a, a]).T,\n",
    "        lambda a: numpy.vstack([a, a]).T,\n",
    "        lambda a: numpy.column_stack([a, a]),\n",
    "        lambda a: numpy.concatenate([a[:, None], a[:, None]], axis=1),\n",
    "    ],\n",
    "    target_time_per_measurement=0.1,\n",
    "    labels=[\"double_vector\", \"c_\", \"stack\", \"vstack\", \"column_stack\", \"concat\"],\n",
    "    n_range=[2 ** k for k in range(18)],\n",
    "    xlabel=\"Vector size\",\n",
    ")"
   ]
  },
  {
   "cell_type": "code",
   "execution_count": 3,
   "metadata": {
    "ipub": {
     "figure": {
      "placement": "H",
      "widefigure": true
     },
     "slide": true
    }
   },
   "outputs": [
    {
     "data": {
      "image/png": "[encoded data removed]",
      "text/plain": [
       "<Figure size 1800x1000 with 1 Axes>"
      ]
     },
     "metadata": {},
     "output_type": "display_data"
    }
   ],
   "source": [
    "fig = plt.figure(figsize=(9, 5), dpi= 200, facecolor='w', edgecolor='k')\n",
    "plt.rcParams['text.color']='black'\n",
    "plt.rcParams['axes.labelcolor']='black'\n",
    "plt.rcParams['xtick.color']='black'\n",
    "plt.rcParams['ytick.color']='black'\n",
    "plt.rcParams['grid.color']='black'\n",
    "out.show()"
   ]
  },
  {
   "cell_type": "code",
   "execution_count": 2,
   "metadata": {
    "ipub": {
     "code": {
      "asfloat": true,
      "format": {},
      "placement": "H",
      "widefigure": false
     },
     "slide": "new",
     "text": {
      "asfloat": true,
      "format": {},
      "placement": "H",
      "use_ansi": false,
      "widefigure": false
     }
    }
   },
   "outputs": [
    {
     "data": {
      "text/plain": [
       "Tunable(double_vector-7b3cb3897126e1da4b3056bf255cea07)"
      ]
     },
     "execution_count": 2,
     "metadata": {},
     "output_type": "execute_result"
    }
   ],
   "source": [
    "import numpy\n",
    "\n",
    "@alternatives(\n",
    "    c_ = lambda a: numpy.c_[a, a],\n",
    "    stack = lambda a: numpy.stack([a, a]).T,\n",
    "    vstack = lambda a: numpy.vstack([a, a]).T,\n",
    "    column_stack = lambda a: numpy.column_stack([a, a]),\n",
    "    concatenate = lambda a: numpy.concatenate([a[:, None], a[:, None]], axis=1),\n",
    ")\n",
    "def double_vector(vec):\n",
    "    vec2 = numpy.ndarray((len(vec), 2))\n",
    "    vec2[:,0] = vec\n",
    "    vec2[:,1] = vec\n",
    "    return vec2\n",
    "\n",
    "vec = double_vector(numpy.random.rand(100))\n",
    "vec"
   ]
  },
  {
   "cell_type": "code",
   "execution_count": 3,
   "metadata": {
    "ipub": {
     "code": {
      "asfloat": true,
      "format": {},
      "placement": "H",
      "widefigure": false
     },
     "figure": {
      "asfloat": true,
      "format": {},
      "placement": "H",
      "use_ansi": false,
      "widefigure": false
     },
     "slide": true
    }
   },
   "outputs": [
    {
     "data": {
      "image/svg+xml": [
       "<?xml version=\"1.0\" encoding=\"UTF-8\" standalone=\"no\"?>\n",
       "<!DOCTYPE svg PUBLIC \"-//W3C//DTD SVG 1.1//EN\"\n",
       " \"http://www.w3.org/Graphics/SVG/1.1/DTD/svg11.dtd\">\n",
       "<!-- Generated by graphviz version 2.40.1 (20161225.0304)\n",
       " -->\n",
       "<!-- Title: %3 Pages: 1 -->\n",
       "<svg width=\"542pt\" height=\"44pt\"\n",
       " viewBox=\"0.00 0.00 541.68 44.00\" xmlns=\"http://www.w3.org/2000/svg\" xmlns:xlink=\"http://www.w3.org/1999/xlink\">\n",
       "<g id=\"graph0\" class=\"graph\" transform=\"scale(1 1) rotate(0) translate(4 40)\">\n",
       "<title>%3</title>\n",
       "<polygon fill=\"#ffffff\" stroke=\"transparent\" points=\"-4,4 -4,-40 537.6839,-40 537.6839,4 -4,4\"/>\n",
       "<!-- callattr&#45;0b6ff67e428c20ea0af4792df2ff7395 -->\n",
       "<g id=\"node1\" class=\"node\">\n",
       "<title>callattr&#45;0b6ff67e428c20ea0af4792df2ff7395</title>\n",
       "<ellipse fill=\"none\" stroke=\"#000000\" cx=\"495.3373\" cy=\"-18\" rx=\"38.1938\" ry=\"18\"/>\n",
       "<text text-anchor=\"middle\" x=\"495.3373\" y=\"-14.3\" font-family=\"Times,serif\" font-size=\"14.00\" fill=\"#000000\">.mean()</text>\n",
       "</g>\n",
       "<!-- mul&#45;62c6445e64c4e8f275808f8cc63b8b9c -->\n",
       "<g id=\"node2\" class=\"node\">\n",
       "<title>mul&#45;62c6445e64c4e8f275808f8cc63b8b9c</title>\n",
       "<ellipse fill=\"none\" stroke=\"#000000\" cx=\"393.9907\" cy=\"-18\" rx=\"27\" ry=\"18\"/>\n",
       "<text text-anchor=\"middle\" x=\"393.9907\" y=\"-14.3\" font-family=\"Times,serif\" font-size=\"14.00\" fill=\"#000000\">*</text>\n",
       "</g>\n",
       "<!-- mul&#45;62c6445e64c4e8f275808f8cc63b8b9c&#45;&gt;callattr&#45;0b6ff67e428c20ea0af4792df2ff7395 -->\n",
       "<g id=\"edge1\" class=\"edge\">\n",
       "<title>mul&#45;62c6445e64c4e8f275808f8cc63b8b9c&#45;&gt;callattr&#45;0b6ff67e428c20ea0af4792df2ff7395</title>\n",
       "<path fill=\"none\" stroke=\"#000000\" d=\"M421.1498,-18C428.9882,-18 437.7913,-18 446.5207,-18\"/>\n",
       "<polygon fill=\"#000000\" stroke=\"#000000\" points=\"446.6724,-21.5001 456.6724,-18 446.6723,-14.5001 446.6724,-21.5001\"/>\n",
       "</g>\n",
       "<!-- double_vector&#45;7b3cb3897126e1da4b3056bf255cea07 -->\n",
       "<g id=\"node3\" class=\"node\">\n",
       "<title>double_vector&#45;7b3cb3897126e1da4b3056bf255cea07</title>\n",
       "<ellipse fill=\"none\" stroke=\"#000000\" cx=\"269.8961\" cy=\"-18\" rx=\"61.1893\" ry=\"18\"/>\n",
       "<text text-anchor=\"middle\" x=\"269.8961\" y=\"-14.3\" font-family=\"Times,serif\" font-size=\"14.00\" fill=\"#000000\">double_vector</text>\n",
       "</g>\n",
       "<!-- double_vector&#45;7b3cb3897126e1da4b3056bf255cea07&#45;&gt;mul&#45;62c6445e64c4e8f275808f8cc63b8b9c -->\n",
       "<g id=\"edge2\" class=\"edge\">\n",
       "<title>double_vector&#45;7b3cb3897126e1da4b3056bf255cea07&#45;&gt;mul&#45;62c6445e64c4e8f275808f8cc63b8b9c</title>\n",
       "<path fill=\"none\" stroke=\"#000000\" d=\"M326.8587,-11.2702C337.4335,-11.1861 348.2066,-11.3649 357.9383,-11.8068\"/>\n",
       "<polygon fill=\"#000000\" stroke=\"#000000\" points=\"357.8456,-15.3071 368.0308,-12.3894 358.2491,-8.3188 357.8456,-15.3071\"/>\n",
       "</g>\n",
       "<!-- double_vector&#45;7b3cb3897126e1da4b3056bf255cea07&#45;&gt;mul&#45;62c6445e64c4e8f275808f8cc63b8b9c -->\n",
       "<g id=\"edge3\" class=\"edge\">\n",
       "<title>double_vector&#45;7b3cb3897126e1da4b3056bf255cea07&#45;&gt;mul&#45;62c6445e64c4e8f275808f8cc63b8b9c</title>\n",
       "<path fill=\"none\" stroke=\"#000000\" d=\"M326.8587,-24.7298C337.4335,-24.8139 348.2066,-24.6351 357.9383,-24.1932\"/>\n",
       "<polygon fill=\"#000000\" stroke=\"#000000\" points=\"358.2491,-27.6812 368.0308,-23.6106 357.8456,-20.6929 358.2491,-27.6812\"/>\n",
       "</g>\n",
       "<!-- double_vector&#45;330e0313274f8387f45587ce6c1cb785 -->\n",
       "<g id=\"node4\" class=\"node\">\n",
       "<title>double_vector&#45;330e0313274f8387f45587ce6c1cb785</title>\n",
       "<polygon fill=\"none\" stroke=\"#ff0000\" points=\"86.4008,-36 .0991,-18 86.4008,0 172.7025,-18 86.4008,-36\"/>\n",
       "<text text-anchor=\"middle\" x=\"86.4008\" y=\"-14.3\" font-family=\"Times,serif\" font-size=\"14.00\" fill=\"#000000\">double_vector</text>\n",
       "</g>\n",
       "<!-- double_vector&#45;330e0313274f8387f45587ce6c1cb785&#45;&gt;double_vector&#45;7b3cb3897126e1da4b3056bf255cea07 -->\n",
       "<g id=\"edge4\" class=\"edge\">\n",
       "<title>double_vector&#45;330e0313274f8387f45587ce6c1cb785&#45;&gt;double_vector&#45;7b3cb3897126e1da4b3056bf255cea07</title>\n",
       "<path fill=\"none\" stroke=\"#000000\" d=\"M172.7754,-18C181.3664,-18 190.0206,-18 198.4351,-18\"/>\n",
       "<polygon fill=\"#000000\" stroke=\"#000000\" points=\"198.5597,-21.5001 208.5597,-18 198.5596,-14.5001 198.5597,-21.5001\"/>\n",
       "</g>\n",
       "</g>\n",
       "</svg>\n"
      ],
      "text/plain": [
       "<graphviz.dot.Digraph at 0x7f66e13831d0>"
      ]
     },
     "execution_count": 3,
     "metadata": {},
     "output_type": "execute_result"
    }
   ],
   "source": [
    "norm2 = (vec * vec).mean()\n",
    "visualize(norm2)"
   ]
  },
  {
   "cell_type": "code",
   "execution_count": 4,
   "metadata": {
    "ipub": {
     "code": {
      "asfloat": true,
      "format": {},
      "placement": "H",
      "widefigure": false
     },
     "slide": "new",
     "text": {
      "asfloat": true,
      "format": {},
      "placement": "H",
      "use_ansi": false,
      "widefigure": false
     }
    }
   },
   "outputs": [
    {
     "data": {
      "text/html": [
       "<table>\n",
       "<thead>\n",
       "<tr><th>double_vector  </th><th>xcheck  </th></tr>\n",
       "</thead>\n",
       "<tbody>\n",
       "<tr><td>c_             </td><td>True    </td></tr>\n",
       "<tr><td>stack          </td><td>True    </td></tr>\n",
       "<tr><td>vstack         </td><td>True    </td></tr>\n",
       "<tr><td>column_stack   </td><td>True    </td></tr>\n",
       "<tr><td>concatenate    </td><td>True    </td></tr>\n",
       "<tr><td>double_vector  </td><td>True    </td></tr>\n",
       "</tbody>\n",
       "</table>"
      ],
      "text/plain": [
       "<tunable.tools.base.Sampler at 0x7f276827f710>"
      ]
     },
     "execution_count": 4,
     "metadata": {},
     "output_type": "execute_result"
    }
   ],
   "source": [
    "crosscheck(vec)"
   ]
  },
  {
   "cell_type": "code",
   "execution_count": 6,
   "metadata": {
    "ipub": {
     "code": {
      "asfloat": true,
      "format": {},
      "placement": "H",
      "widefigure": false
     },
     "slide": true,
     "text": {
      "asfloat": true,
      "format": {},
      "placement": "H",
      "use_ansi": false,
      "widefigure": false
     }
    }
   },
   "outputs": [
    {
     "data": {
      "text/html": [
       "<table>\n",
       "<thead>\n",
       "<tr><th>double_vector  </th><th>Time        </th></tr>\n",
       "</thead>\n",
       "<tbody>\n",
       "<tr><td>c_             </td><td>109.090 usec</td></tr>\n",
       "<tr><td>stack          </td><td>59.424 usec </td></tr>\n",
       "<tr><td>vstack         </td><td>51.173 usec </td></tr>\n",
       "<tr><td>column_stack   </td><td>47.474 usec </td></tr>\n",
       "<tr><td>concatenate    </td><td>44.927 usec </td></tr>\n",
       "<tr><td>double_vector  </td><td>42.468 usec </td></tr>\n",
       "</tbody>\n",
       "</table>"
      ],
      "text/plain": [
       "<tunable.tools.base.Sampler at 0x7f27682a0190>"
      ]
     },
     "execution_count": 6,
     "metadata": {},
     "output_type": "execute_result"
    }
   ],
   "source": [
    "benchmark(vec)"
   ]
  },
  {
   "cell_type": "markdown",
   "metadata": {
    "ipub": {
     "slide": true
    }
   },
   "source": [
    "# Field operations in Lyncs\n",
    "\n",
    "- **Axes** are the key components of a field, they determine the size, properties and are required in axes-wise operations\n",
    "\n",
    "- Field operations are always performed in a **lazy** manner and a *tunable* computational graph is constructed\n",
    "\n",
    "- Validity **checks** are performed during the construction of the graph for being sure that is possible to execute it\n",
    "\n",
    "- The computational graph can be optimized, **tuned**, submitted for parallel execution, etc...\n",
    "\n",
    "- The class keeps **track** of all the structural changes and the field's structure is always known\n",
    "\n",
    "- The operations rely on the implementation on **backends** e.g. `numpy`, `cuPy` (for GPU) or `dask.Array` (for distributed)"
   ]
  },
  {
   "cell_type": "markdown",
   "metadata": {
    "ipub": {
     "slide": true
    }
   },
   "source": [
    "## Structural changes\n",
    "\n",
    "- `.reorder`, changes the order of axes\n",
    "\n",
    "- `.reorder_label`, changes the order of labels within a label axis\n",
    "\n",
    "- `.reshape`, adds (`.extend`) or removes (`.squeeze`) axes\n",
    "\n",
    "- `.map`, applies a map between lattices\n",
    "\n",
    "- `.rechunk`, changes the partitioning of the field\n",
    "\n",
    "- `.transfer`, changes the owner(s) of the field\n",
    "\n",
    "- `.astype`, changes the data type of the field\n"
   ]
  },
  {
   "cell_type": "markdown",
   "metadata": {
    "ipub": {
     "slide": true
    }
   },
   "source": [
    "### Example"
   ]
  },
  {
   "cell_type": "code",
   "execution_count": 17,
   "metadata": {
    "ipub": {
     "code": {
      "asfloat": true,
      "format": {},
      "placement": "H",
      "widefigure": false
     },
     "slide": true,
     "text": {
      "asfloat": true,
      "format": {},
      "placement": "H",
      "use_ansi": false,
      "widefigure": false
     }
    }
   },
   "outputs": [
    {
     "data": {
      "text/plain": [
       "(('t_0', 8), ('x_0', 4), ('y_0', 4), ('z_0', 4), ('spin_0', 4), ('color_0', 3))"
      ]
     },
     "execution_count": 17,
     "metadata": {},
     "output_type": "execute_result"
    }
   ],
   "source": [
    "field = lattice.Vector()\n",
    "field.shape"
   ]
  },
  {
   "cell_type": "code",
   "execution_count": 18,
   "metadata": {
    "ipub": {
     "code": {
      "asfloat": true,
      "format": {},
      "placement": "H",
      "widefigure": false
     },
     "slide": true,
     "text": {
      "asfloat": true,
      "format": {},
      "placement": "H",
      "use_ansi": false,
      "widefigure": false
     }
    }
   },
   "outputs": [
    {
     "data": {
      "text/plain": [
       "Permutation(('t_0', 'x_0', 'y_0', 'z_0', 'spin_0', 'color_0'), value=('t_0', 'x_0', 'y_0', 'z_0', 'spin_0', 'color_0'))"
      ]
     },
     "execution_count": 18,
     "metadata": {},
     "output_type": "execute_result"
    }
   ],
   "source": [
    "ordered_field = field.reorder(field.indeces)\n",
    "ordered_field.indeces_order"
   ]
  },
  {
   "cell_type": "code",
   "execution_count": 19,
   "metadata": {
    "ipub": {
     "code": {
      "asfloat": true,
      "format": {},
      "placement": "H",
      "widefigure": false
     },
     "slide": true,
     "text": {
      "asfloat": true,
      "format": {},
      "placement": "H",
      "use_ansi": false,
      "widefigure": false
     }
    }
   },
   "outputs": [
    {
     "data": {
      "image/svg+xml": [
       "<?xml version=\"1.0\" encoding=\"UTF-8\" standalone=\"no\"?>\n",
       "<!DOCTYPE svg PUBLIC \"-//W3C//DTD SVG 1.1//EN\"\n",
       " \"http://www.w3.org/Graphics/SVG/1.1/DTD/svg11.dtd\">\n",
       "<!-- Generated by graphviz version 2.40.1 (20161225.0304)\n",
       " -->\n",
       "<!-- Title: %3 Pages: 1 -->\n",
       "<svg width=\"651pt\" height=\"121pt\"\n",
       " viewBox=\"0.00 0.00 650.53 121.00\" xmlns=\"http://www.w3.org/2000/svg\" xmlns:xlink=\"http://www.w3.org/1999/xlink\">\n",
       "<g id=\"graph0\" class=\"graph\" transform=\"scale(1 1) rotate(0) translate(4 117)\">\n",
       "<title>%3</title>\n",
       "<polygon fill=\"#ffffff\" stroke=\"transparent\" points=\"-4,4 -4,-117 646.5325,-117 646.5325,4 -4,4\"/>\n",
       "<!-- reorder&#45;4c3a5742d1713e621d1a40c2f0098c85 -->\n",
       "<g id=\"node1\" class=\"node\">\n",
       "<title>reorder&#45;4c3a5742d1713e621d1a40c2f0098c85</title>\n",
       "<ellipse fill=\"none\" stroke=\"#000000\" cx=\"606.1357\" cy=\"-72\" rx=\"36.2938\" ry=\"18\"/>\n",
       "<text text-anchor=\"middle\" x=\"606.1357\" y=\"-68.3\" font-family=\"Times,serif\" font-size=\"14.00\" fill=\"#000000\">reorder</text>\n",
       "</g>\n",
       "<!-- zeros&#45;ea4f098431529a66fd75eaf3f18f3baa -->\n",
       "<g id=\"node2\" class=\"node\">\n",
       "<title>zeros&#45;ea4f098431529a66fd75eaf3f18f3baa</title>\n",
       "<ellipse fill=\"none\" stroke=\"#000000\" cx=\"449.1764\" cy=\"-72\" rx=\"29.4969\" ry=\"18\"/>\n",
       "<text text-anchor=\"middle\" x=\"449.1764\" y=\"-68.3\" font-family=\"Times,serif\" font-size=\"14.00\" fill=\"#000000\">zeros</text>\n",
       "</g>\n",
       "<!-- zeros&#45;ea4f098431529a66fd75eaf3f18f3baa&#45;&gt;reorder&#45;4c3a5742d1713e621d1a40c2f0098c85 -->\n",
       "<g id=\"edge1\" class=\"edge\">\n",
       "<title>zeros&#45;ea4f098431529a66fd75eaf3f18f3baa&#45;&gt;reorder&#45;4c3a5742d1713e621d1a40c2f0098c85</title>\n",
       "<path fill=\"none\" stroke=\"#000000\" d=\"M478.6993,-72C501.4343,-72 533.2959,-72 559.4725,-72\"/>\n",
       "<polygon fill=\"#000000\" stroke=\"#000000\" points=\"559.5617,-75.5001 569.5616,-72 559.5616,-68.5001 559.5617,-75.5001\"/>\n",
       "</g>\n",
       "<!-- indeces_order&#45;912c0309827ea7d6c6b03b75395f5824 -->\n",
       "<g id=\"node3\" class=\"node\">\n",
       "<title>indeces_order&#45;912c0309827ea7d6c6b03b75395f5824</title>\n",
       "<polygon fill=\"none\" stroke=\"#00ff00\" points=\"449.1764,-36 364.5515,-18 449.1764,0 533.8014,-18 449.1764,-36\"/>\n",
       "<text text-anchor=\"middle\" x=\"449.1764\" y=\"-14.3\" font-family=\"Times,serif\" font-size=\"14.00\" fill=\"#000000\">indeces_order</text>\n",
       "</g>\n",
       "<!-- indeces_order&#45;912c0309827ea7d6c6b03b75395f5824&#45;&gt;reorder&#45;4c3a5742d1713e621d1a40c2f0098c85 -->\n",
       "<g id=\"edge2\" class=\"edge\">\n",
       "<title>indeces_order&#45;912c0309827ea7d6c6b03b75395f5824&#45;&gt;reorder&#45;4c3a5742d1713e621d1a40c2f0098c85</title>\n",
       "<path fill=\"none\" stroke=\"#000000\" d=\"M483.8602,-28.6623C499.2019,-33.4844 517.4267,-39.3577 533.7389,-45 544.9169,-48.8664 556.9832,-53.2724 567.9999,-57.3876\"/>\n",
       "<polygon fill=\"#000000\" stroke=\"#000000\" points=\"566.7702,-60.6644 577.3623,-60.9083 569.2341,-54.1124 566.7702,-60.6644\"/>\n",
       "</g>\n",
       "<!-- indeces_order&#45;1380fdb2b7227cc666098d8f5fc18561 -->\n",
       "<g id=\"node4\" class=\"node\">\n",
       "<title>indeces_order&#45;1380fdb2b7227cc666098d8f5fc18561</title>\n",
       "<polygon fill=\"none\" stroke=\"#ff0000\" points=\"84.5625,-113 -.0625,-95 84.5625,-77 169.1874,-95 84.5625,-113\"/>\n",
       "<text text-anchor=\"middle\" x=\"84.5625\" y=\"-91.3\" font-family=\"Times,serif\" font-size=\"14.00\" fill=\"#000000\">indeces_order</text>\n",
       "</g>\n",
       "<!-- indeces_order&#45;1380fdb2b7227cc666098d8f5fc18561&#45;&gt;reorder&#45;4c3a5742d1713e621d1a40c2f0098c85 -->\n",
       "<g id=\"edge3\" class=\"edge\">\n",
       "<title>indeces_order&#45;1380fdb2b7227cc666098d8f5fc18561&#45;&gt;reorder&#45;4c3a5742d1713e621d1a40c2f0098c85</title>\n",
       "<path fill=\"none\" stroke=\"#000000\" d=\"M156.2728,-97.7704C172.3448,-98.2824 189.3155,-98.7378 205.1249,-99 351.1555,-101.4218 390.0084,-124.9295 533.7389,-99 545.8894,-96.808 558.661,-92.7022 570.0366,-88.342\"/>\n",
       "<polygon fill=\"#000000\" stroke=\"#000000\" points=\"571.6513,-91.4651 579.6232,-84.4865 569.0394,-84.9706 571.6513,-91.4651\"/>\n",
       "</g>\n",
       "<!-- ordered_shape&#45;121163b5e8e5d28cf66e96e713e8751e -->\n",
       "<g id=\"node5\" class=\"node\">\n",
       "<title>ordered_shape&#45;121163b5e8e5d28cf66e96e713e8751e</title>\n",
       "<ellipse fill=\"none\" stroke=\"#000000\" cx=\"266.8695\" cy=\"-72\" rx=\"61.99\" ry=\"18\"/>\n",
       "<text text-anchor=\"middle\" x=\"266.8695\" y=\"-68.3\" font-family=\"Times,serif\" font-size=\"14.00\" fill=\"#000000\">ordered_shape</text>\n",
       "</g>\n",
       "<!-- indeces_order&#45;1380fdb2b7227cc666098d8f5fc18561&#45;&gt;ordered_shape&#45;121163b5e8e5d28cf66e96e713e8751e -->\n",
       "<g id=\"edge5\" class=\"edge\">\n",
       "<title>indeces_order&#45;1380fdb2b7227cc666098d8f5fc18561&#45;&gt;ordered_shape&#45;121163b5e8e5d28cf66e96e713e8751e</title>\n",
       "<path fill=\"none\" stroke=\"#000000\" d=\"M137.7833,-88.2856C157.2035,-85.8355 179.4196,-83.0327 199.884,-80.4509\"/>\n",
       "<polygon fill=\"#000000\" stroke=\"#000000\" points=\"200.6012,-83.8883 210.0844,-79.164 199.7249,-76.9433 200.6012,-83.8883\"/>\n",
       "</g>\n",
       "<!-- ordered_shape&#45;121163b5e8e5d28cf66e96e713e8751e&#45;&gt;zeros&#45;ea4f098431529a66fd75eaf3f18f3baa -->\n",
       "<g id=\"edge4\" class=\"edge\">\n",
       "<title>ordered_shape&#45;121163b5e8e5d28cf66e96e713e8751e&#45;&gt;zeros&#45;ea4f098431529a66fd75eaf3f18f3baa</title>\n",
       "<path fill=\"none\" stroke=\"#000000\" d=\"M328.8447,-72C355.5202,-72 385.9227,-72 409.4942,-72\"/>\n",
       "<polygon fill=\"#000000\" stroke=\"#000000\" points=\"409.8058,-75.5001 419.8058,-72 409.8058,-68.5001 409.8058,-75.5001\"/>\n",
       "</g>\n",
       "</g>\n",
       "</svg>\n"
      ],
      "text/plain": [
       "<graphviz.dot.Digraph at 0x7f66b2d8d610>"
      ]
     },
     "execution_count": 19,
     "metadata": {},
     "output_type": "execute_result"
    }
   ],
   "source": [
    "ordered_field.visualize()"
   ]
  },
  {
   "cell_type": "code",
   "execution_count": 20,
   "metadata": {
    "ipub": {
     "code": {
      "asfloat": true,
      "format": {},
      "placement": "H",
      "widefigure": false
     },
     "slide": true,
     "text": {
      "asfloat": true,
      "format": {},
      "placement": "H",
      "use_ansi": false,
      "widefigure": false
     }
    }
   },
   "outputs": [
    {
     "data": {
      "text/plain": [
       "(8, 4, 4, 4, 4, 3)"
      ]
     },
     "execution_count": 20,
     "metadata": {},
     "output_type": "execute_result"
    }
   ],
   "source": [
    "ordered_field.ordered_shape"
   ]
  },
  {
   "cell_type": "markdown",
   "metadata": {
    "ipub": {
     "slide": true
    }
   },
   "source": [
    "## Element access"
   ]
  },
  {
   "cell_type": "code",
   "execution_count": 21,
   "metadata": {
    "ipub": {
     "code": {
      "asfloat": true,
      "format": {},
      "placement": "H",
      "widefigure": false
     },
     "slide": true,
     "text": {
      "asfloat": true,
      "format": {},
      "placement": "H",
      "use_ansi": false,
      "widefigure": false
     }
    }
   },
   "outputs": [
    {
     "data": {
      "text/plain": [
       "{'origin': {'t': 0, 'x': 0, 'y': 0, 'z': 0},\n",
       " 'source': {'t': 0, 'x': 2, 'y': 1, 'z': 2}}"
      ]
     },
     "execution_count": 21,
     "metadata": {},
     "output_type": "execute_result"
    }
   ],
   "source": [
    "lattice.coords"
   ]
  },
  {
   "cell_type": "code",
   "execution_count": 40,
   "metadata": {
    "ipub": {
     "code": {
      "asfloat": true,
      "format": {},
      "placement": "H",
      "widefigure": false
     },
     "slide": true,
     "text": {
      "asfloat": true,
      "format": {},
      "placement": "H",
      "use_ansi": false,
      "widefigure": false
     }
    }
   },
   "outputs": [
    {
     "data": {
      "text/plain": [
       "(('t_0', 8), ('x_0', 4), ('y_0', 4), ('z_0', 4), ('spin_0', 4), ('color_0', 3))"
      ]
     },
     "execution_count": 40,
     "metadata": {},
     "output_type": "execute_result"
    }
   ],
   "source": [
    "field.shape"
   ]
  },
  {
   "cell_type": "code",
   "execution_count": 37,
   "metadata": {
    "ipub": {
     "code": {
      "asfloat": true,
      "format": {},
      "placement": "H",
      "widefigure": false
     },
     "slide": true,
     "text": {
      "asfloat": true,
      "format": {},
      "placement": "H",
      "use_ansi": false,
      "widefigure": false
     }
    }
   },
   "outputs": [
    {
     "data": {
      "text/plain": [
       "{'t_0': 0, 'x_0': 0, 'y_0': 0, 'z_0': 0}"
      ]
     },
     "execution_count": 37,
     "metadata": {},
     "output_type": "execute_result"
    }
   ],
   "source": [
    "field2 = field[\"origin\"]\n",
    "field2.coords"
   ]
  },
  {
   "cell_type": "code",
   "execution_count": 38,
   "metadata": {
    "ipub": {
     "code": {
      "asfloat": true,
      "format": {},
      "placement": "H",
      "widefigure": false
     },
     "slide": true,
     "text": {
      "asfloat": true,
      "format": {},
      "placement": "H",
      "use_ansi": false,
      "widefigure": false
     }
    }
   },
   "outputs": [
    {
     "data": {
      "text/plain": [
       "{'spin_0': (0, 2), 't_0': 0, 'x_0': 0, 'y_0': 0, 'z_0': 0}"
      ]
     },
     "execution_count": 38,
     "metadata": {},
     "output_type": "execute_result"
    }
   ],
   "source": [
    "field3 = field2.get(spin_0 = (0,2), color_0 = slice(None))\n",
    "field3.coords"
   ]
  },
  {
   "cell_type": "code",
   "execution_count": 39,
   "metadata": {
    "ipub": {
     "code": {
      "asfloat": true,
      "format": {},
      "placement": "H",
      "widefigure": false
     },
     "slide": true,
     "text": {
      "asfloat": true,
      "format": {},
      "placement": "H",
      "use_ansi": false,
      "widefigure": false
     }
    }
   },
   "outputs": [
    {
     "data": {
      "text/plain": [
       "(('t_0', 1), ('x_0', 1), ('y_0', 1), ('z_0', 1), ('spin_0', 2), ('color_0', 3))"
      ]
     },
     "execution_count": 39,
     "metadata": {},
     "output_type": "execute_result"
    }
   ],
   "source": [
    "field3.shape"
   ]
  },
  {
   "cell_type": "markdown",
   "metadata": {
    "ipub": {
     "slide": true
    }
   },
   "source": [
    "## Contractions\n",
    "\n",
    "User-friendly contractions are performed with the`dot` function that uses the `einsum` function.\n",
    "\n",
    "`dot(*fields, closed_indices=[...], open_indices=[...], trace=?)`"
   ]
  },
  {
   "cell_type": "code",
   "execution_count": 3,
   "metadata": {
    "ipub": {
     "code": {
      "asfloat": true,
      "format": {},
      "placement": "H",
      "widefigure": false
     },
     "slide": true,
     "text": {
      "asfloat": true,
      "format": {},
      "placement": "H",
      "use_ansi": false,
      "widefigure": false
     }
    }
   },
   "outputs": [
    {
     "data": {
      "text/plain": [
       "({'color_0': 0, 'color_1': 1},\n",
       " {'color_0': 1, 'color_1': 2},\n",
       " {'color_0': 0, 'color_1': 2})"
      ]
     },
     "execution_count": 3,
     "metadata": {},
     "output_type": "execute_result"
    }
   ],
   "source": [
    "colors = lattice.Field(axes = [\"color\",\"color\"])\n",
    "colors.dot(colors, debug = True)"
   ]
  },
  {
   "cell_type": "code",
   "execution_count": 57,
   "metadata": {
    "ipub": {
     "code": {
      "asfloat": true,
      "format": {},
      "placement": "H",
      "widefigure": false
     },
     "slide": true,
     "text": {
      "asfloat": true,
      "format": {},
      "placement": "H",
      "use_ansi": false,
      "widefigure": false
     }
    }
   },
   "outputs": [
    {
     "data": {
      "text/plain": [
       "({'color_0': 0, 'color_1': 1}, {'color_0': 1, 'color_1': 0}, {})"
      ]
     },
     "execution_count": 57,
     "metadata": {},
     "output_type": "execute_result"
    }
   ],
   "source": [
    "colors.dot(colors, trace=True, debug=True)"
   ]
  },
  {
   "cell_type": "code",
   "execution_count": 58,
   "metadata": {
    "ipub": {
     "code": {
      "asfloat": true,
      "format": {},
      "placement": "H",
      "widefigure": false
     },
     "slide": true,
     "text": {
      "asfloat": true,
      "format": {},
      "placement": "H",
      "use_ansi": false,
      "widefigure": false
     }
    }
   },
   "outputs": [
    {
     "data": {
      "text/plain": [
       "({'color_0': 0, 'color_1': 1},\n",
       " {'color_0': 2, 'color_1': 3},\n",
       " {'color_0': 0, 'color_1': 1, 'color_2': 2, 'color_3': 3})"
      ]
     },
     "execution_count": 58,
     "metadata": {},
     "output_type": "execute_result"
    }
   ],
   "source": [
    "colors.dot(colors, open_indeces=[\"color\"], debug=True)"
   ]
  },
  {
   "cell_type": "markdown",
   "metadata": {
    "ipub": {
     "slide": true
    }
   },
   "source": [
    "## Reductions and other functions\n",
    "\n",
    "Based on numpy, many other functions are available, e.g.\n",
    "\n",
    "- reductions: `mean`, `sum`, `std`, `min`, `max`, ...\n",
    "\n",
    "- math operations: `sin`, `cos`, `pow`, ...\n",
    "\n",
    "- random numbers: `uniform`, `normal`, ...\n",
    "\n",
    "**Note**: axes labels are used anywhere axes is expected by numpy, e.g. `mean(\"space\")`\n",
    "\n",
    "**Note**: reproducible random numbers are available at additional costs"
   ]
  },
  {
   "cell_type": "markdown",
   "metadata": {
    "ipub": {
     "slide": true
    }
   },
   "source": [
    "# Conclusions\n",
    "\n",
    "Next features to be implemented\n",
    "\n",
    "- New Dask interface\n",
    "\n",
    "- Support for sparse fields (also in connection with libRSB)\n",
    "\n",
    "- Support for GPU arrays (via cuPy)\n",
    "\n",
    "- Support for a large variety of IO\n",
    "\n",
    "Things to discuss\n",
    "\n",
    "- How to implement operators / field transformations\n",
    "\n",
    "- Support shifted fields instead of rolling"
   ]
  }
 ],
 "metadata": {
  "ipub": {
   "titlepage": {
    "author": "Simone Bacchio",
    "email": "s.bacchio@gmail.com",
    "institution": [
     "The Cyprus Institute"
    ],
    "logo": "../logo.png",
    "subtitle": "A Python API for Lattice QCD applications",
    "title": "Lyncs"
   }
  },
  "kernelspec": {
   "display_name": "Python 3",
   "language": "python",
   "name": "python3"
  },
  "language_info": {
   "codemirror_mode": {
    "name": "ipython",
    "version": 3
   },
   "file_extension": ".py",
   "mimetype": "text/x-python",
   "name": "python",
   "nbconvert_exporter": "python",
   "pygments_lexer": "ipython3",
   "version": "3.7.6"
  }
 },
 "nbformat": 4,
 "nbformat_minor": 4
}
