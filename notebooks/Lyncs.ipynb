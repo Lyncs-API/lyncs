{
 "cells": [
  {
   "cell_type": "markdown",
   "metadata": {},
   "source": [
    "**NOTE:** this notebook can be a presentation. Just run `nbpresent Lyncs.ipynb` for starting the slide show."
   ]
  },
  {
   "cell_type": "markdown",
   "metadata": {
    "ipub": {
     "slide": true
    }
   },
   "source": [
    "# Introduction and motivations\n",
    "\n",
    "Lattice QCD is a highly-computationally intensive research field and access the largest supercomputers in the world.\n",
    "\n",
    "A large variety of LQCD software is available and they differ for several reasons:\n",
    "- **Field theories**: dimensions, groups (SU(3), SU(N), ...)\n",
    "\n",
    "- **Fermion discretizations**: Wilson, Twisted Mass, Staggered, Domain Walls, ...\n",
    "\n",
    "- **Algorithms**: simulations, solvers, contractions, ...\n",
    "\n",
    "- **Computing Architecture**: CPUs, GPUs, KNLs, NVIDIA, Intel, ARM, ...\n",
    "\n",
    "- **Programming Language**: C, C++, CUDA, ...\n",
    "\n",
    "- ***Programming Model***: Kokkos, OpenCL, ...\n",
    "\n",
    "- **Collaborations**: USQCD, UKQCD, ETMC, BMW, ...\n"
   ]
  },
  {
   "cell_type": "markdown",
   "metadata": {
    "ipub": {
     "slide": true
    }
   },
   "source": [
    "## Towards community codes\n",
    "\n",
    "In the recent years there is an increasing effort for community codes in Lattice QCD.\n",
    "\n",
    "A remarkable example is [QUDA](https://github.com/lattice/quda), supported by NVIDIA, which implements\n",
    "a large variety of highly optimized kernels for GPUs and involves developer all around the world.\n",
    "\n",
    "Important features of community codes are\n",
    "- Clean implementation\n",
    "\n",
    "- Well documented\n",
    "\n",
    "- Fully tested\n",
    "\n",
    "- Backwards compatibility\n",
    "\n",
    "- User-friendly\n",
    "\n",
    "- Open source\n",
    "\n",
    "- User support"
   ]
  },
  {
   "cell_type": "markdown",
   "metadata": {
    "ipub": {
     "slide": true
    }
   },
   "source": [
    "## Standard LQCD approach\n",
    "\n",
    "A standard computational approach for LQCD is **Domain Decomposition** (Distributed Data).\n",
    "\n",
    "This is (*almost*) the only way exploited for scaling on supercomputers.\n",
    "\n",
    "But recent algorithms and architectures limit significantly the scaling of LQCD calculations.\n",
    "\n",
    "**Multigrid methods** have been one of the major breaking point. \n",
    "\n",
    "<h2>Alternatives</h2>\n",
    "\n",
    "- **Task parallelism**: Independent tasks are executed at the same time\n",
    "\n",
    "- **Pipeline parallelism**: Dependent tasks are pipelined and executed in parallel on chunks of data"
   ]
  },
  {
   "cell_type": "markdown",
   "metadata": {
    "ipub": {
     "slide": true
    }
   },
   "source": [
    "## Simulations vs Measurements\n",
    "\n",
    "LQCD calculations usually proceed in two steps\n",
    "\n",
    "- **Production of configurations**: sequential jobs where a configuration depends on the previous\n",
    "\n",
    "- **Measurement of observables**: a set of configurations is analyzed and can be done in parallel\n",
    "\n",
    "The measurement of observables allows for a large task parallelism also within a single configuration.\n",
    "\n",
    "The production of configurations on the other hand is highly serial and current algorithms have not large space for improvements.\n",
    "\n",
    "<h3> Our road-map </h3>\n",
    "\n",
    "1. Write a simulation code that can exploits task parallelism\n",
    "\n",
    "2. Develop simulation algorithms that allow for higher task parallelism\n"
   ]
  },
  {
   "cell_type": "markdown",
   "metadata": {
    "ipub": {
     "slide": true
    }
   },
   "source": [
    "## How to combine task parallelism with data distribution\n",
    "\n",
    "- An allocation is divided in partitions running on different nodes or different components of a node (e.g. CPU/GPU partition)\n",
    "\n",
    "- Partitions may be overlapping but the execution of tasks should never overlap\n",
    "\n",
    "- Tasks need to wait to be executed until (i) the designed partition is busy or (ii) data from another task is needed.\n",
    "\n",
    "<h3> Parallel Tasks' Manager </h3>\n",
    "\n",
    "**One** process is responsible to submit tasks to the partitions.\n",
    "Tasks are divided in three categories:\n",
    "\n",
    "1. **Preparation:** data management, redistribution, reorder, IO reading, copy to device etc\n",
    "\n",
    "2. **Computation:** execution of the kernel/task managed by external library\n",
    "\n",
    "3. **Finalization:** global reductions, IO writing, etc\n",
    "\n",
    "Preparation and finalization can overlap to other tasks being low-computationally intense"
   ]
  },
  {
   "cell_type": "markdown",
   "metadata": {
    "ipub": {
     "slide": true
    }
   },
   "source": [
    "## Parallel tasks' manager: first attempt\n",
    "<p style=\"display: flex; justify-content: center; text-align: center;\"><img src=\"https://github.com/sbacchio/lyncs/raw/master/docs/source/_static/communications.png\" width=\"600\"/></p>\n"
   ]
  },
  {
   "cell_type": "markdown",
   "metadata": {
    "ipub": {
     "slide": true
    }
   },
   "source": [
    "## Parallel tasks' manager:  Dask\n",
    "\n",
    "\n",
    "[Dask](https://dask.org/) is a pure Python module for parallel computing.\n",
    "\n",
    "Between the numerous features, it offers\n",
    "\n",
    "- **Task scheduling** and parallelism via futures\n",
    "\n",
    "```\n",
    "    client = Client(...)\n",
    "    A = client.submit(fnc1, args)\n",
    "    B = client.submit(fnc2, A, args)\n",
    "```\n",
    "\n",
    "- **Distributed numpy arrays**\n",
    "\n",
    "```\n",
    "    arr = Array(shape=(...), chunks=(...))\n",
    "```\n",
    "\n",
    "- Supports **MPI** and other communicators"
   ]
  },
  {
   "cell_type": "markdown",
   "metadata": {
    "ipub": {
     "slide": true
    }
   },
   "source": [
    "## Automatic Python C++ bindings: cppyy\n",
    "\n",
    "[cppyy](https://cppyy.readthedocs.io/en/latest/) offers automatic Python C++ bindings.\n",
    "It is based on [cling](https://root.cern.ch/cling) (root) and [clang](https://clang.llvm.org/) (llvm).\n",
    "\n",
    "- **Automatic binding**\n",
    "\n",
    "```\n",
    "    cppyy.include(\"header.h\")\n",
    "    cppyy.load_library(\"lib.so\")\n",
    "```\n",
    "\n",
    "- **Automatic casting**\n",
    "\n",
    "- Supports **templates** and overloads\n",
    "\n",
    "```\n",
    "    std.vector(int) -> std::vector<int>\n",
    "```\n",
    "\n",
    "- Python functions/lambdas can be passed as pointers"
   ]
  },
  {
   "cell_type": "markdown",
   "metadata": {
    "ipub": {
     "slide": true
    }
   },
   "source": [
    "# Lyncs, a Python API for Lattice QCD applications"
   ]
  },
  {
   "cell_type": "markdown",
   "metadata": {
    "ipub": {
     "slide": true
    }
   },
   "source": [
    "<p style=\"display: flex; justify-content: center; text-align: center;\"><img src=\"https://github.com/sbacchio/lyncs/blob/master/docs/source/_static/logo.png?raw=true\" width=\"512\"/></p>\n",
    "\n",
    "Installation: `pip install lyncs[all,DDalphaAMG,quda,cpu,gpu,...]`\n",
    "\n",
    "Documentation: [lyncs.readthedocs.io](https://lyncs.readthedocs.io/en/latest/ \"https://lyncs.readthedocs.io/en/latest/\")\n",
    "\n",
    "Available at [github.com/sbacchio/lyncs](https://github.com/sbacchio/lyncs \"https://github.com/sbacchio/lyncs\")"
   ]
  },
  {
   "cell_type": "markdown",
   "metadata": {
    "ipub": {
     "slide": true
    }
   },
   "source": [
    "## Objectives\n",
    "\n",
    "* **Extendible API:** interface to many LQCD libraries within a common framework.\n",
    "\n",
    "* **CI/CD:** automatic continuous integration and deployment on PyPI\n",
    "\n",
    "* **User-friendly:** a particular attention is dedicated to the high-level interface.\n",
    "\n",
    "* **Flexible:** the same calculation can be performed in a number of ways. \n",
    "\n",
    "* **Modular-computing:** multiple tasks can be performed at the same time fully exploiting the cluster allocation.\n",
    "\n",
    "* **Crosschecks:** Automatic crosschecks between different implementations.\n",
    "\n",
    "* **Benchmarks:** Automatic benchmarks of different implementations.\n",
    "\n",
    "* **Tunable:** many computational options can be free parameters that will be tuned at run-time."
   ]
  },
  {
   "cell_type": "markdown",
   "metadata": {
    "ipub": {
     "slide": "notes"
    }
   },
   "source": [
    "## Status: Done\n",
    "* **Design:** decisions on the structure of the API and implementation details\n",
    "\n",
    "* **Dependencies:** investigated the most suitable tools for Lyncs\n",
    "\n",
    "  * **[Dask](https://dask.org/ \"https://dask.org/\"):** \n",
    "  a flexible library for parallel computing in Python.\n",
    "    * Distributed tasks management\n",
    "    * Tasks graph optimization\n",
    "    * Distributed array tools\n",
    "    \n",
    "  * **[cppyy](https://cppyy.readthedocs.io/ \"https://cppyy.readthedocs.io/\"):** \n",
    "  automatic Python-C++ bindings\n",
    "  \n",
    "  * _**[Tune](https://ray.readthedocs.io/en/latest/tune.html \"https://ray.readthedocs.io/en/latest/tune.html\"):**_ \n",
    "  scalable Hyperparameter Tuning\n",
    "  \n",
    "* **First-routines:** important routines of the API have been implemented to test feasibility\n",
    "\n",
    "* **Compilation:** external libraries are automatically downloaded, patched and compiled.\n",
    "\n",
    "* **Installation:** simple installation via pip/conda"
   ]
  },
  {
   "cell_type": "markdown",
   "metadata": {
    "ipub": {
     "slide": "notes"
    }
   },
   "source": [
    "## Status: Planned\n",
    "\n",
    "* **Core:** the main core of the API should be completed in the next month\n",
    "\n",
    "* **Support:** interface to DDalphaAMG, tmLQCD, QUDA, PLEGMA\n",
    "\n",
    "* **First release:** with a limited usage (**milestone**: end of April)\n",
    "\n",
    "* **Tests on DEEP-EST:** granted access to the DEEP-EST cluster (March-November)\n",
    "\n",
    "* **HMC implementation:** high-priority task"
   ]
  },
  {
   "cell_type": "markdown",
   "metadata": {
    "ipub": {
     "slide": true
    }
   },
   "source": [
    "## Definition of the lattice theory\n",
    "\n",
    "The lattice field theory is represented by the `lyncs.Lattice` object.\n",
    "\n",
    "* Here names and sizes of the dimensions of the lattice are defined\n",
    "\n",
    "* Dimensions are divided in \n",
    "\n",
    "  - **dims**: dimensions of variable size\n",
    "  - **dofs**: dimensions of fixed size\n",
    "  - **labels**: dimensions with labeled values which order can change\n",
    "\n",
    "* Dimensions can be grouped under a common name, e.g. `'space' = ('x','y','z')`\n",
    "\n",
    "* Coordinates and maps are also managed by the `Lattice` object\n"
   ]
  },
  {
   "cell_type": "markdown",
   "metadata": {
    "ipub": {
     "slide": true
    }
   },
   "source": [
    "### Example"
   ]
  },
  {
   "cell_type": "code",
   "execution_count": null,
   "metadata": {
    "ipub": {
     "code": {
      "asfloat": true,
      "format": {},
      "placement": "H",
      "widefigure": false
     },
     "slide": true,
     "text": {
      "asfloat": true,
      "format": {
       "basicstyle": "\\small"
      },
      "placement": "H",
      "use_ansi": false,
      "widefigure": false
     }
    }
   },
   "outputs": [],
   "source": [
    "import lyncs as ly\n",
    "lattice = ly.Lattice(dims=4, dofs=\"QCD\")\n",
    "lattice"
   ]
  },
  {
   "cell_type": "markdown",
   "metadata": {
    "ipub": {
     "slide": true
    }
   },
   "source": [
    "We have created a four dimensional lattice with dimensions (x,y,z,t) and with the degree of freedom of QCD, i.e. color and spin.\n",
    "\n",
    "The lattice dimensions and properties can be edited in a simple and flexible manner."
   ]
  },
  {
   "cell_type": "code",
   "execution_count": null,
   "metadata": {
    "ipub": {
     "code": {
      "asfloat": true,
      "format": {},
      "placement": "H",
      "widefigure": false
     },
     "slide": true,
     "text": {
      "asfloat": true,
      "format": {
       "basicstyle": "\\small"
      },
      "placement": "H",
      "use_ansi": false,
      "widefigure": false
     }
    }
   },
   "outputs": [],
   "source": [
    "lattice.t = 8\n",
    "lattice['x'] = 4\n",
    "lattice.space = 4\n",
    "lattice.dims"
   ]
  },
  {
   "cell_type": "markdown",
   "metadata": {
    "ipub": {
     "slide": "new"
    }
   },
   "source": [
    "Coordinates can be added easily:"
   ]
  },
  {
   "cell_type": "code",
   "execution_count": null,
   "metadata": {
    "ipub": {
     "code": {
      "asfloat": true,
      "format": {},
      "placement": "H",
      "widefigure": false
     },
     "slide": true,
     "text": {
      "asfloat": true,
      "format": {
       "basicstyle": "\\small"
      },
      "placement": "H",
      "use_ansi": false,
      "widefigure": false
     }
    }
   },
   "outputs": [],
   "source": [
    "lattice.add_coord(\"origin\", {\"dims\": 0})\n",
    "lattice.origin"
   ]
  },
  {
   "cell_type": "code",
   "execution_count": null,
   "metadata": {
    "ipub": {
     "code": {
      "asfloat": true,
      "format": {},
      "placement": "H",
      "widefigure": false
     },
     "slide": true,
     "text": {
      "asfloat": true,
      "format": {
       "basicstyle": "\\small"
      },
      "placement": "H",
      "use_ansi": false,
      "widefigure": false
     }
    }
   },
   "outputs": [],
   "source": [
    "lattice.coords.random_source(label=\"source\")\n",
    "lattice.source"
   ]
  },
  {
   "cell_type": "code",
   "execution_count": null,
   "metadata": {
    "ipub": {
     "code": {
      "asfloat": true,
      "format": {},
      "placement": "H",
      "widefigure": false
     },
     "slide": true,
     "text": {
      "asfloat": true,
      "format": {
       "basicstyle": "\\small"
      },
      "placement": "H",
      "use_ansi": false,
      "widefigure": false
     }
    }
   },
   "outputs": [],
   "source": [
    "lattice.coords"
   ]
  },
  {
   "cell_type": "markdown",
   "metadata": {
    "ipub": {
     "slide": "new"
    }
   },
   "source": [
    "And here an example for a map, e.g. even-odd decomposition"
   ]
  },
  {
   "cell_type": "code",
   "execution_count": null,
   "metadata": {
    "ipub": {
     "code": {
      "asfloat": true,
      "format": {},
      "placement": "H",
      "widefigure": false
     },
     "slide": true,
     "text": {
      "asfloat": true,
      "format": {
       "basicstyle": "\\small"
      },
      "placement": "H",
      "use_ansi": false,
      "widefigure": false
     }
    }
   },
   "outputs": [],
   "source": [
    "latticeEO = lattice.copy(coords=False)\n",
    "latticeEO.t //=  2\n",
    "latticeEO.add_label(\"evenodd\", [\"even\", \"odd\"])\n",
    "latticeEO"
   ]
  },
  {
   "cell_type": "markdown",
   "metadata": {
    "ipub": {
     "slide": true
    }
   },
   "source": [
    "The mapping function uses annotations to define on which dimensions it acts on:"
   ]
  },
  {
   "cell_type": "code",
   "execution_count": null,
   "metadata": {
    "ipub": {
     "code": {
      "asfloat": true,
      "format": {},
      "placement": "H",
      "widefigure": false
     },
     "slide": true,
     "text": {
      "asfloat": true,
      "format": {
       "basicstyle": "\\small"
      },
      "placement": "H",
      "use_ansi": false,
      "widefigure": false
     }
    }
   },
   "outputs": [],
   "source": [
    "def evenodd(**pos: \"dims\") -> [\"dims\", \"evenodd\"]:\n",
    "    val = sum(pos.values())\n",
    "    pos[\"t\"] //= 2\n",
    "    pos[\"evenodd\"] = \"even\" if val % 2 == 0 else \"odd\"\n",
    "    return pos\n",
    "\n",
    "evenodd.__annotations__"
   ]
  },
  {
   "cell_type": "markdown",
   "metadata": {
    "ipub": {
     "slide": "new"
    }
   },
   "source": [
    "The inverse map is"
   ]
  },
  {
   "cell_type": "code",
   "execution_count": null,
   "metadata": {
    "ipub": {
     "code": {
      "asfloat": true,
      "format": {},
      "placement": "H",
      "widefigure": false
     },
     "slide": true
    }
   },
   "outputs": [],
   "source": [
    "def undo_evenodd(**kwargs: [\"dims\", \"evenodd\"]) -> \"dims\":\n",
    "    kwargs[\"t\"] *= 2\n",
    "    evenodd = kwargs.pop(\"evenodd\")\n",
    "    val = sum(kwargs.values())\n",
    "    if evenodd != (\"even\" if val % 2 == 0 else \"odd\"):\n",
    "        kwargs[\"t\"] += 1\n",
    "    return kwargs"
   ]
  },
  {
   "cell_type": "markdown",
   "metadata": {
    "ipub": {
     "slide": true
    }
   },
   "source": [
    "And we add the mapping between the two lattices in the following way"
   ]
  },
  {
   "cell_type": "code",
   "execution_count": null,
   "metadata": {
    "ipub": {
     "code": {
      "asfloat": true,
      "format": {},
      "placement": "H",
      "widefigure": false
     },
     "slide": true,
     "text": {
      "asfloat": true,
      "format": {
       "basicstyle": "\\small"
      },
      "placement": "H",
      "use_ansi": false,
      "widefigure": false
     }
    }
   },
   "outputs": [],
   "source": [
    "lattice.add_map(latticeEO, evenodd, undo_evenodd)\n",
    "lattice.maps"
   ]
  },
  {
   "cell_type": "markdown",
   "metadata": {
    "ipub": {
     "slide": "new"
    }
   },
   "source": [
    "Now we can apply the map on lattice for obtaining `LatticeEO`"
   ]
  },
  {
   "cell_type": "code",
   "execution_count": null,
   "metadata": {
    "ipub": {
     "code": {
      "asfloat": true,
      "format": {},
      "placement": "H",
      "widefigure": false
     },
     "slide": true,
     "text": {
      "asfloat": true,
      "format": {
       "basicstyle": "\\small"
      },
      "placement": "H",
      "use_ansi": false,
      "widefigure": false
     }
    }
   },
   "outputs": [],
   "source": [
    "latticeEO = lattice.evenodd()\n",
    "latticeEO"
   ]
  },
  {
   "cell_type": "code",
   "execution_count": null,
   "metadata": {
    "ipub": {
     "code": {
      "asfloat": true,
      "format": {},
      "placement": "H",
      "widefigure": false
     },
     "slide": true,
     "text": {
      "asfloat": true,
      "format": {
       "basicstyle": "\\small"
      },
      "placement": "H",
      "use_ansi": false,
      "widefigure": false
     }
    }
   },
   "outputs": [],
   "source": [
    "latticeEO.undo_evenodd()"
   ]
  },
  {
   "cell_type": "markdown",
   "metadata": {
    "ipub": {
     "slide": true
    }
   },
   "source": [
    "## Fields on the lattice\n",
    "\n",
    "The second major component of `lyncs` are the Fields, `lyncs.Field`,\n",
    "which are defined on a `lattice` object."
   ]
  },
  {
   "cell_type": "code",
   "execution_count": null,
   "metadata": {
    "ipub": {
     "code": {
      "asfloat": true,
      "format": {},
      "placement": "H",
      "widefigure": false
     },
     "slide": true,
     "text": {
      "asfloat": true,
      "format": {
       "basicstyle": "\\small",
       "keywordstyle": "\\color{blue}",
       "morekeywords": [
        "Vector",
        "Tunable"
       ]
      },
      "placement": "H",
      "use_ansi": false,
      "widefigure": false
     }
    }
   },
   "outputs": [],
   "source": [
    "field = ly.Field(lattice=lattice, axes=[\"dims\"])\n",
    "field"
   ]
  },
  {
   "cell_type": "markdown",
   "metadata": {
    "ipub": {
     "slide": "new"
    }
   },
   "source": [
    "From the axes we obtain the list of indices of the field which order is **not significant** (see `indexes_order`)."
   ]
  },
  {
   "cell_type": "code",
   "execution_count": null,
   "metadata": {
    "ipub": {
     "code": {
      "asfloat": true,
      "format": {},
      "placement": "H",
      "widefigure": false
     },
     "slide": true,
     "text": {
      "asfloat": true,
      "format": {},
      "placement": "H",
      "use_ansi": false,
      "widefigure": false
     }
    }
   },
   "outputs": [],
   "source": [
    "field.indexes"
   ]
  },
  {
   "cell_type": "code",
   "execution_count": null,
   "metadata": {
    "ipub": {
     "code": {
      "asfloat": true,
      "format": {},
      "placement": "H",
      "widefigure": false
     },
     "slide": true,
     "text": {
      "asfloat": true,
      "format": {
       "basicstyle": "\\small",
       "keywordstyle": "\\color{blue}",
       "morekeywords": [
        "Vector",
        "Tunable"
       ]
      },
      "placement": "H",
      "use_ansi": false,
      "widefigure": false
     }
    }
   },
   "outputs": [],
   "source": [
    "field.shape"
   ]
  },
  {
   "cell_type": "code",
   "execution_count": null,
   "metadata": {
    "ipub": {
     "code": {
      "asfloat": true,
      "format": {},
      "placement": "H",
      "widefigure": false
     },
     "slide": true,
     "text": {
      "asfloat": true,
      "format": {
       "basicstyle": "\\small",
       "keywordstyle": "\\color{blue}",
       "morekeywords": [
        "Vector",
        "Tunable"
       ]
      },
      "placement": "H",
      "use_ansi": false,
      "widefigure": false
     }
    }
   },
   "outputs": [],
   "source": [
    "field.indexes_order"
   ]
  },
  {
   "cell_type": "markdown",
   "metadata": {
    "ipub": {
     "slide": "new"
    }
   },
   "source": [
    "Depending on the axes, to the field is given a *main* field type"
   ]
  },
  {
   "cell_type": "code",
   "execution_count": null,
   "metadata": {
    "ipub": {
     "code": {
      "asfloat": true,
      "format": {},
      "placement": "H",
      "widefigure": false
     },
     "slide": true,
     "text": {
      "asfloat": true,
      "format": {
       "basicstyle": "\\small",
       "keywordstyle": "\\color{blue}",
       "morekeywords": [
        "Vector",
        "Tunable"
       ]
      },
      "placement": "H",
      "use_ansi": false,
      "widefigure": false
     }
    }
   },
   "outputs": [],
   "source": [
    "field.type"
   ]
  },
  {
   "cell_type": "markdown",
   "metadata": {
    "ipub": {
     "slide": true
    }
   },
   "source": [
    "But it's only one of the possible matching field types"
   ]
  },
  {
   "cell_type": "code",
   "execution_count": null,
   "metadata": {
    "ipub": {
     "code": {
      "asfloat": true,
      "format": {},
      "placement": "H",
      "widefigure": false
     },
     "slide": true,
     "text": {
      "asfloat": true,
      "format": {
       "basicstyle": "\\small",
       "keywordstyle": "\\color{blue}",
       "morekeywords": [
        "Vector",
        "Tunable"
       ]
      },
      "placement": "H",
      "use_ansi": false,
      "widefigure": false
     }
    }
   },
   "outputs": [],
   "source": [
    "field.types"
   ]
  },
  {
   "cell_type": "markdown",
   "metadata": {
    "ipub": {
     "slide": "new"
    }
   },
   "source": [
    "Field Types are defined as a *metaclass* and they used the axes labels to check if a field is instance of the class.\n",
    "\n",
    "Field Types are needed to specify dynamically additional functions acting specifically on those axes,\n",
    "e.g `GaugeLinks` has defined the function `plaquette`."
   ]
  },
  {
   "cell_type": "code",
   "execution_count": null,
   "metadata": {
    "ipub": {
     "slide": true,
     "text": {
      "asfloat": true,
      "format": {
       "basicstyle": "\\small",
       "keywordstyle": "\\color{blue}",
       "morekeywords": [
        "Vector",
        "Tunable"
       ]
      },
      "placement": "H",
      "use_ansi": false,
      "widefigure": false
     }
    }
   },
   "outputs": [],
   "source": [
    "for name,field in ly.field.types.base.FieldType.s.items():\n",
    "    print(f'{name:13} ==> {field.__axes__}')"
   ]
  },
  {
   "cell_type": "markdown",
   "metadata": {
    "ipub": {
     "slide": "new"
    }
   },
   "source": [
    "And the different field types can be directly accessed from the lattice"
   ]
  },
  {
   "cell_type": "code",
   "execution_count": null,
   "metadata": {
    "ipub": {
     "code": {
      "asfloat": true,
      "format": {},
      "placement": "H",
      "widefigure": false
     },
     "slide": true,
     "text": {
      "asfloat": true,
      "format": {
       "basicstyle": "\\small",
       "keywordstyle": "\\color{blue}",
       "morekeywords": [
        "Vector",
        "Tunable"
       ]
      },
      "placement": "H",
      "use_ansi": true,
      "widefigure": false
     }
    }
   },
   "outputs": [],
   "source": [
    "print(lattice.fields)"
   ]
  },
  {
   "cell_type": "code",
   "execution_count": null,
   "metadata": {
    "ipub": {
     "code": {
      "asfloat": true,
      "format": {},
      "placement": "H",
      "widefigure": false
     },
     "slide": true,
     "text": {
      "asfloat": true,
      "format": {
       "basicstyle": "\\small",
       "keywordstyle": "\\color{blue}",
       "morekeywords": [
        "Vector",
        "Tunable"
       ]
      },
      "placement": "H",
      "use_ansi": false,
      "widefigure": false
     }
    }
   },
   "outputs": [],
   "source": [
    "lattice.GaugeLinks()"
   ]
  },
  {
   "cell_type": "markdown",
   "metadata": {
    "ipub": {
     "slide": true
    }
   },
   "source": [
    "# Tuneit, a Python tool for hyper-parameter tuning\n",
    "\n",
    "<style>\n",
    "   .rendered_html img { display: inline }\n",
    "   .reveal section img { margin: 0px }\n",
    "</style>\n",
    "[![python](https://img.shields.io/pypi/pyversions/tuneit.svg?logo=python)](https://pypi.org/project/tuneit/)\n",
    "[![pypi](https://img.shields.io/pypi/v/tuneit.svg?logo=python)](https://pypi.org/project/tuneit/)\n",
    "[![license](https://img.shields.io/github/license/sbacchio/tuneit?logo=github)](https://github.com/sbacchio/tuneit/blob/master/LICENSE)\n",
    "[![build & test](https://img.shields.io/github/workflow/status/sbacchio/tuneit/Build%20&%20test?logo=github)](https://github.com/sbacchio/tuneit/actions)\n",
    "[![codecov](https://img.shields.io/codecov/c/github/sbacchio/tuneit?logo=codecov)](https://codecov.io/gh/sbacchio/tuneit)\n",
    "\n",
    "Installation: `pip install tuneit`\n",
    "\n",
    "Documentation: [tuneit.readthedocs.io](https://tuneit.readthedocs.io/en/latest/)\n",
    "\n",
    "Available at [github.com/sbacchio/tuneit](https://github.com/sbacchio/tuneit)\n",
    "\n",
    "<h3> Example </h3>"
   ]
  },
  {
   "cell_type": "code",
   "execution_count": null,
   "metadata": {
    "ipub": {
     "code": {
      "asfloat": true,
      "format": {},
      "placement": "H",
      "widefigure": false
     },
     "figure": {
      "asfloat": true,
      "format": {},
      "placement": "H",
      "use_ansi": false,
      "widefigure": false
     },
     "slide": true
    }
   },
   "outputs": [],
   "source": [
    "from tuneit import *\n",
    "\n",
    "x = variable( [1, 2, 3, 4] )\n",
    "y = variable( [0.1, 1, 10])\n",
    "\n",
    "visualize( x * y )"
   ]
  },
  {
   "cell_type": "markdown",
   "metadata": {
    "ipub": {
     "slide": "new"
    }
   },
   "source": [
    "With tuneit one can easily construct a computational graph having *variables* as free parameters.\n",
    "\n",
    "The computation can then be:\n",
    "\n",
    "- **sampled**: get the value of the computation varying the parameters\n",
    "\n",
    "- **crosschecked**: check that the computation always gives the same value varying the parameters\n",
    "\n",
    "- **minimized**: find the parameters which give the minimal value\n",
    "\n",
    "- **benchmarked**: time the computation varying the parameters\n",
    "\n",
    "- **tuned**: find the parameters which give the smallest time to solution"
   ]
  },
  {
   "cell_type": "markdown",
   "metadata": {
    "ipub": {
     "slide": true
    }
   },
   "source": [
    "## Interface to hyper-parameter tuners (TODO)\n",
    "\n",
    "The main idea of tuneit is to provide an interface to one or more hyper-parameter tuners in Python.\n",
    "\n",
    "- [scikit-optimize](https://scikit-optimize.github.io/stable/): offers Bayesian Optimization and visualization tools.\n",
    "\n",
    "- [hyperopt](https://hyperopt.github.io/hyperopt/): offers Tree-Parzen Estimators and variants.\n",
    "\n",
    "- [tune (ray-project)](https://docs.ray.io/en/latest/tune.html): interfaces to the two above and many others. Main focus task distribution.\n",
    "\n",
    "These will be used to efficiently tune the computational parameters."
   ]
  },
  {
   "cell_type": "markdown",
   "metadata": {
    "ipub": {
     "slide": true
    }
   },
   "source": [
    "## Example: vector concatenation"
   ]
  },
  {
   "cell_type": "code",
   "execution_count": null,
   "metadata": {},
   "outputs": [],
   "source": [
    "import numpy\n",
    "import perfplot\n",
    "from matplotlib import pyplot as plt\n",
    "perfplot.main.tqdm = lambda iterable, *args, **kwargs: iterable\n",
    "\n",
    "def double_vector(vec):\n",
    "    vec2 = numpy.ndarray((len(vec), 2))\n",
    "    vec2[:,0] = vec\n",
    "    vec2[:,1] = vec\n",
    "    return vec2\n",
    "\n",
    "out = perfplot.bench(\n",
    "    setup=lambda n: numpy.random.rand(n),\n",
    "    kernels=[\n",
    "        double_vector,\n",
    "        lambda a: numpy.c_[a, a],\n",
    "        lambda a: numpy.stack([a, a]).T,\n",
    "        lambda a: numpy.vstack([a, a]).T,\n",
    "        lambda a: numpy.column_stack([a, a]),\n",
    "        lambda a: numpy.concatenate([a[:, None], a[:, None]], axis=1),\n",
    "    ],\n",
    "    target_time_per_measurement=0.1,\n",
    "    labels=[\"double_vector\", \"c_\", \"stack\", \"vstack\", \"column_stack\", \"concat\"],\n",
    "    n_range=[2 ** k for k in range(18)],\n",
    "    xlabel=\"Vector size\",\n",
    ")"
   ]
  },
  {
   "cell_type": "code",
   "execution_count": null,
   "metadata": {
    "ipub": {
     "figure": {
      "placement": "H",
      "widefigure": true
     },
     "slide": true
    }
   },
   "outputs": [],
   "source": [
    "fig = plt.figure(figsize=(9, 5), dpi= 200, facecolor='w', edgecolor='k')\n",
    "plt.rcParams['text.color']='black'\n",
    "plt.rcParams['axes.labelcolor']='black'\n",
    "plt.rcParams['xtick.color']='black'\n",
    "plt.rcParams['ytick.color']='black'\n",
    "plt.rcParams['grid.color']='black'\n",
    "out.show()"
   ]
  },
  {
   "cell_type": "code",
   "execution_count": null,
   "metadata": {
    "ipub": {
     "code": {
      "asfloat": true,
      "format": {},
      "placement": "H",
      "widefigure": false
     },
     "slide": "new",
     "text": {
      "asfloat": true,
      "format": {},
      "placement": "H",
      "use_ansi": false,
      "widefigure": false
     }
    }
   },
   "outputs": [],
   "source": [
    "import numpy\n",
    "\n",
    "@alternatives(\n",
    "    c_ = lambda a: numpy.c_[a, a],\n",
    "    stack = lambda a: numpy.stack([a, a]).T,\n",
    "    vstack = lambda a: numpy.vstack([a, a]).T,\n",
    "    column_stack = lambda a: numpy.column_stack([a, a]),\n",
    "    concatenate = lambda a: numpy.concatenate([a[:, None], a[:, None]], axis=1),\n",
    ")\n",
    "def double_vector(vec):\n",
    "    vec2 = numpy.ndarray((len(vec), 2))\n",
    "    vec2[:,0] = vec\n",
    "    vec2[:,1] = vec\n",
    "    return vec2\n",
    "\n",
    "vec = double_vector(numpy.random.rand(100))\n",
    "vec"
   ]
  },
  {
   "cell_type": "code",
   "execution_count": null,
   "metadata": {
    "ipub": {
     "code": {
      "asfloat": true,
      "format": {},
      "placement": "H",
      "widefigure": false
     },
     "figure": {
      "asfloat": true,
      "format": {},
      "placement": "H",
      "use_ansi": false,
      "widefigure": false
     },
     "slide": true
    }
   },
   "outputs": [],
   "source": [
    "norm2 = (vec * vec).mean()\n",
    "visualize(norm2)"
   ]
  },
  {
   "cell_type": "code",
   "execution_count": null,
   "metadata": {
    "ipub": {
     "code": {
      "asfloat": true,
      "format": {},
      "placement": "H",
      "widefigure": false
     },
     "slide": "new",
     "text": {
      "asfloat": true,
      "format": {},
      "placement": "H",
      "use_ansi": false,
      "widefigure": false
     }
    }
   },
   "outputs": [],
   "source": [
    "crosscheck(vec)"
   ]
  },
  {
   "cell_type": "code",
   "execution_count": null,
   "metadata": {
    "ipub": {
     "code": {
      "asfloat": true,
      "format": {},
      "placement": "H",
      "widefigure": false
     },
     "slide": true,
     "text": {
      "asfloat": true,
      "format": {},
      "placement": "H",
      "use_ansi": false,
      "widefigure": false
     }
    }
   },
   "outputs": [],
   "source": [
    "benchmark(vec)"
   ]
  },
  {
   "cell_type": "markdown",
   "metadata": {
    "ipub": {
     "slide": true
    }
   },
   "source": [
    "# Field operations in Lyncs\n",
    "\n",
    "- **Axes** are the key components of a field, they determine the size, properties and are required in axes-wise operations\n",
    "\n",
    "- Field operations are always performed in a **lazy** manner and a *tunable* computational graph is constructed\n",
    "\n",
    "- Validity **checks** are performed during the construction of the graph for being sure that is possible to execute it\n",
    "\n",
    "- The computational graph can be optimized, **tuned**, submitted for parallel execution, etc...\n",
    "\n",
    "- The class keeps **track** of all the structural changes and the field's structure is always known\n",
    "\n",
    "- The operations rely on the implementation on **backends** e.g. `numpy`, `cuPy` (for GPU) or `dask.Array` (for distributed)"
   ]
  },
  {
   "cell_type": "markdown",
   "metadata": {
    "ipub": {
     "slide": true
    }
   },
   "source": [
    "## Structural changes\n",
    "\n",
    "- `.reorder`, changes the order of axes\n",
    "\n",
    "- `.reorder_label`, changes the order of labels within a label axis\n",
    "\n",
    "- `.reshape`, adds (`.extend`) or removes (`.squeeze`) axes\n",
    "\n",
    "- `.map`, applies a map between lattices\n",
    "\n",
    "- `.rechunk`, changes the partitioning of the field\n",
    "\n",
    "- `.transfer`, changes the owner(s) of the field\n",
    "\n",
    "- `.astype`, changes the data type of the field\n"
   ]
  },
  {
   "cell_type": "markdown",
   "metadata": {
    "ipub": {
     "slide": true
    }
   },
   "source": [
    "### Example"
   ]
  },
  {
   "cell_type": "code",
   "execution_count": null,
   "metadata": {
    "ipub": {
     "code": {
      "asfloat": true,
      "format": {},
      "placement": "H",
      "widefigure": false
     },
     "slide": true,
     "text": {
      "asfloat": true,
      "format": {},
      "placement": "H",
      "use_ansi": false,
      "widefigure": false
     }
    }
   },
   "outputs": [],
   "source": [
    "field = lattice.Vector()\n",
    "field.shape"
   ]
  },
  {
   "cell_type": "code",
   "execution_count": null,
   "metadata": {
    "ipub": {
     "code": {
      "asfloat": true,
      "format": {},
      "placement": "H",
      "widefigure": false
     },
     "slide": true,
     "text": {
      "asfloat": true,
      "format": {},
      "placement": "H",
      "use_ansi": false,
      "widefigure": false
     }
    }
   },
   "outputs": [],
   "source": [
    "ordered_field = field.reorder(field.indexes)\n",
    "ordered_field.indexes_order"
   ]
  },
  {
   "cell_type": "code",
   "execution_count": null,
   "metadata": {
    "ipub": {
     "code": {
      "asfloat": true,
      "format": {},
      "placement": "H",
      "widefigure": false
     },
     "slide": true,
     "text": {
      "asfloat": true,
      "format": {},
      "placement": "H",
      "use_ansi": false,
      "widefigure": false
     }
    }
   },
   "outputs": [],
   "source": [
    "ordered_field.visualize()"
   ]
  },
  {
   "cell_type": "code",
   "execution_count": null,
   "metadata": {
    "ipub": {
     "code": {
      "asfloat": true,
      "format": {},
      "placement": "H",
      "widefigure": false
     },
     "slide": true,
     "text": {
      "asfloat": true,
      "format": {},
      "placement": "H",
      "use_ansi": false,
      "widefigure": false
     }
    }
   },
   "outputs": [],
   "source": [
    "ordered_field.ordered_shape"
   ]
  },
  {
   "cell_type": "markdown",
   "metadata": {
    "ipub": {
     "slide": true
    }
   },
   "source": [
    "## Element access"
   ]
  },
  {
   "cell_type": "code",
   "execution_count": null,
   "metadata": {
    "ipub": {
     "code": {
      "asfloat": true,
      "format": {},
      "placement": "H",
      "widefigure": false
     },
     "slide": true,
     "text": {
      "asfloat": true,
      "format": {},
      "placement": "H",
      "use_ansi": false,
      "widefigure": false
     }
    }
   },
   "outputs": [],
   "source": [
    "lattice.coords"
   ]
  },
  {
   "cell_type": "code",
   "execution_count": null,
   "metadata": {
    "ipub": {
     "code": {
      "asfloat": true,
      "format": {},
      "placement": "H",
      "widefigure": false
     },
     "slide": true,
     "text": {
      "asfloat": true,
      "format": {},
      "placement": "H",
      "use_ansi": false,
      "widefigure": false
     }
    }
   },
   "outputs": [],
   "source": [
    "field.shape"
   ]
  },
  {
   "cell_type": "code",
   "execution_count": null,
   "metadata": {
    "ipub": {
     "code": {
      "asfloat": true,
      "format": {},
      "placement": "H",
      "widefigure": false
     },
     "slide": true,
     "text": {
      "asfloat": true,
      "format": {},
      "placement": "H",
      "use_ansi": false,
      "widefigure": false
     }
    }
   },
   "outputs": [],
   "source": [
    "field2 = field[\"origin\"]\n",
    "field2.coords"
   ]
  },
  {
   "cell_type": "code",
   "execution_count": null,
   "metadata": {
    "ipub": {
     "code": {
      "asfloat": true,
      "format": {},
      "placement": "H",
      "widefigure": false
     },
     "slide": true,
     "text": {
      "asfloat": true,
      "format": {},
      "placement": "H",
      "use_ansi": false,
      "widefigure": false
     }
    }
   },
   "outputs": [],
   "source": [
    "field3 = field2.get(spin_0 = (0,2), color_0 = slice(None))\n",
    "field3.coords"
   ]
  },
  {
   "cell_type": "code",
   "execution_count": null,
   "metadata": {
    "ipub": {
     "code": {
      "asfloat": true,
      "format": {},
      "placement": "H",
      "widefigure": false
     },
     "slide": true,
     "text": {
      "asfloat": true,
      "format": {},
      "placement": "H",
      "use_ansi": false,
      "widefigure": false
     }
    }
   },
   "outputs": [],
   "source": [
    "field3.shape"
   ]
  },
  {
   "cell_type": "markdown",
   "metadata": {
    "ipub": {
     "slide": true
    }
   },
   "source": [
    "## Contractions\n",
    "\n",
    "User-friendly contractions are performed with the`dot` function that uses the `einsum` function.\n",
    "\n",
    "`dot(*fields, closed_indices=[...], open_indices=[...], trace=?)`"
   ]
  },
  {
   "cell_type": "code",
   "execution_count": null,
   "metadata": {
    "ipub": {
     "code": {
      "asfloat": true,
      "format": {},
      "placement": "H",
      "widefigure": false
     },
     "slide": true,
     "text": {
      "asfloat": true,
      "format": {},
      "placement": "H",
      "use_ansi": false,
      "widefigure": false
     }
    }
   },
   "outputs": [],
   "source": [
    "colors = lattice.Field(axes = [\"color\",\"color\"])\n",
    "colors.dot(colors, debug = True)"
   ]
  },
  {
   "cell_type": "code",
   "execution_count": null,
   "metadata": {
    "ipub": {
     "code": {
      "asfloat": true,
      "format": {},
      "placement": "H",
      "widefigure": false
     },
     "slide": true,
     "text": {
      "asfloat": true,
      "format": {},
      "placement": "H",
      "use_ansi": false,
      "widefigure": false
     }
    }
   },
   "outputs": [],
   "source": [
    "colors.dot(colors, trace=True, debug=True)"
   ]
  },
  {
   "cell_type": "code",
   "execution_count": null,
   "metadata": {
    "ipub": {
     "code": {
      "asfloat": true,
      "format": {},
      "placement": "H",
      "widefigure": false
     },
     "slide": true,
     "text": {
      "asfloat": true,
      "format": {},
      "placement": "H",
      "use_ansi": false,
      "widefigure": false
     }
    }
   },
   "outputs": [],
   "source": [
    "colors.dot(colors, open_indexes=[\"color\"], debug=True)"
   ]
  },
  {
   "cell_type": "markdown",
   "metadata": {
    "ipub": {
     "slide": true
    }
   },
   "source": [
    "## Reductions and other functions\n",
    "\n",
    "Based on numpy, many other functions are available, e.g.\n",
    "\n",
    "- reductions: `mean`, `sum`, `std`, `min`, `max`, ...\n",
    "\n",
    "- math operations: `sin`, `cos`, `pow`, ...\n",
    "\n",
    "- random numbers: `uniform`, `normal`, ...\n",
    "\n",
    "**Note**: axes labels are used anywhere axes is expected by numpy, e.g. `mean(\"space\")`\n",
    "\n",
    "**Note**: reproducible random numbers are available at additional costs"
   ]
  },
  {
   "cell_type": "markdown",
   "metadata": {
    "ipub": {
     "slide": true
    }
   },
   "source": [
    "# Conclusions\n",
    "\n",
    "Next features to be implemented\n",
    "\n",
    "- New Dask interface\n",
    "\n",
    "- Support for sparse fields (also in connection with libRSB)\n",
    "\n",
    "- Support for GPU arrays (via cuPy)\n",
    "\n",
    "- Support for a large variety of IO\n",
    "\n",
    "Things to discuss\n",
    "\n",
    "- How to implement operators / field transformations\n",
    "\n",
    "- Support shifted fields instead of rolling"
   ]
  }
 ],
 "metadata": {
  "ipub": {
   "titlepage": {
    "author": "Simone Bacchio",
    "email": "s.bacchio@gmail.com",
    "institution": [
     "The Cyprus Institute"
    ],
    "logo": "../logo.png",
    "subtitle": "A Python API for Lattice QCD applications",
    "title": "Lyncs"
   }
  },
  "kernelspec": {
   "display_name": "Python 3",
   "language": "python",
   "name": "python3"
  },
  "language_info": {
   "codemirror_mode": {
    "name": "ipython",
    "version": 3
   },
   "file_extension": ".py",
   "mimetype": "text/x-python",
   "name": "python",
   "nbconvert_exporter": "python",
   "pygments_lexer": "ipython3",
   "version": "3.7.6"
  }
 },
 "nbformat": 4,
 "nbformat_minor": 4
}
