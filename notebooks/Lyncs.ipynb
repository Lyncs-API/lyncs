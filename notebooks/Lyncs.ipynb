{
 "cells": [
  {
   "cell_type": "markdown",
   "metadata": {
    "ipub": {
     "slide": true
    },
    "slideshow": {
     "slide_type": "slide"
    }
   },
   "source": [
    "# Lyncs, a Python API for Lattice QCD applications"
   ]
  },
  {
   "cell_type": "markdown",
   "metadata": {
    "ipub": {
     "slide": true
    }
   },
   "source": [
    "Installation: `conda/pip install lyncs`\n",
    "\n",
    "Documentation: [lyncs.readthedocs.io](https://lyncs.readthedocs.io/en/latest/ \"https://lyncs.readthedocs.io/en/latest/\")\n",
    "\n",
    "Available at [github.com/sbacchio/lyncs](https://github.com/sbacchio/lyncs \"https://github.com/sbacchio/lyncs\")"
   ]
  },
  {
   "cell_type": "markdown",
   "metadata": {
    "ipub": {
     "slide": true
    },
    "slideshow": {
     "slide_type": "subslide"
    }
   },
   "source": [
    "## Objectives\n",
    "\n",
    "* **API:** interface to many LQCD libraries within a common framework.\n",
    "\n",
    "* **User-friendly:** a particular attention is dedicated to the high-level interface.\n",
    "\n",
    "* **Flexible:** the same calculation can be performed in a number of ways. \n",
    "\n",
    "* **Tunable:** many computational options are free parameters that will be set at run-time.\n",
    "\n",
    "* **Modular-computing:** multiple tasks can be performed at the same time fully exploiting the cluster allocation.\n",
    "\n",
    "* **Crosschecks:** Automatic crosschecks between different implementations.\n",
    "\n",
    "* **Benchmarks:** Automatic benchmarks of different implementations."
   ]
  },
  {
   "cell_type": "markdown",
   "metadata": {
    "ipub": {
     "slide": true
    }
   },
   "source": [
    "## Status: Done\n",
    "* **Design:** decisions on the structure of the API and implementation details\n",
    "\n",
    "* **Dependencies:** investigated the most suitable tools for Lyncs\n",
    "\n",
    "  * **[Dask](https://dask.org/ \"https://dask.org/\"):** \n",
    "  a flexible library for parallel computing in Python.\n",
    "    * Distributed tasks management\n",
    "    * Tasks graph optimization\n",
    "    * Distributed array tools\n",
    "    \n",
    "  * **[cppyy](https://cppyy.readthedocs.io/ \"https://cppyy.readthedocs.io/\"):** \n",
    "  automatic Python-C++ bindings\n",
    "  \n",
    "  * _**[Tune](https://ray.readthedocs.io/en/latest/tune.html \"https://ray.readthedocs.io/en/latest/tune.html\"):**_ \n",
    "  scalable Hyperparameter Tuning\n",
    "  \n",
    "* **First-routines:** important routines of the API have been implemented to test feasibility\n",
    "\n",
    "* **Compilation:** external libraries are automatically downloaded, patched and compiled."
   ]
  },
  {
   "cell_type": "markdown",
   "metadata": {
    "ipub": {
     "slide": true
    }
   },
   "source": [
    "## Status: Planned\n",
    "\n",
    "* **Core:** the main core of the API should be completed in the next month\n",
    "\n",
    "* **Support:** interface to DDalphaAMG, tmLQCD, QUDA, PLEGMA\n",
    "\n",
    "* **Installation:** simple installation via pip/conda\n",
    "\n",
    "* **Go public:** first release with documentation (**milestone**: end of April)\n",
    "\n",
    "* **Tests on DEEP-EST:** granted access to the DEEP-EST cluster (March-November)"
   ]
  },
  {
   "cell_type": "markdown",
   "metadata": {
    "ipub": {
     "slide": true
    },
    "slideshow": {
     "slide_type": "slide"
    }
   },
   "source": [
    "# Introduction to Lyncs"
   ]
  },
  {
   "cell_type": "markdown",
   "metadata": {
    "ipub": {
     "slide": true
    }
   },
   "source": [
    "The two main structures of the Lyncs API are \n",
    "\n",
    "* The **lattice** encoding all the information about the lattice structure.\n",
    "\n",
    "* The **field** for managing data-structures that live on the lattice."
   ]
  },
  {
   "cell_type": "markdown",
   "metadata": {
    "ipub": {
     "slide": true
    },
    "slideshow": {
     "slide_type": "slide"
    }
   },
   "source": [
    "## Lattice object\n",
    "\n",
    "The lattice field theory is represented by the `lyncs.Lattice` object.\n",
    "\n",
    "* Defines the names of the dimensions and degree-of-freedom of the lattice.\n",
    "\n",
    "* Defines the properties of the lattice (e.g. boundary conditions, structure, etc...).\n",
    "\n",
    "* Every field is defined on the same lattice."
   ]
  },
  {
   "cell_type": "markdown",
   "metadata": {
    "ipub": {
     "slide": true
    },
    "slideshow": {
     "slide_type": "subslide"
    }
   },
   "source": [
    "### Example"
   ]
  },
  {
   "cell_type": "code",
   "execution_count": 1,
   "metadata": {
    "ipub": {
     "code": {
      "asfloat": true,
      "format": {},
      "placement": "H",
      "widefigure": false
     },
     "slide": true,
     "text": {
      "asfloat": true,
      "format": {
       "basicstyle": "\\small"
      },
      "placement": "H",
      "use_ansi": false,
      "widefigure": false
     }
    }
   },
   "outputs": [
    {
     "data": {
      "text/plain": [
       "Lattice(dims = {'t': 1, 'x': 1, 'y': 1, 'z': 1},\n",
       "        dofs = {'spin': 4, 'color': 3},\n",
       "        properties = {'time': ['t'], 'space': ['x', 'y', 'z'], 'gauge_dofs': ['color']})"
      ]
     },
     "execution_count": 1,
     "metadata": {},
     "output_type": "execute_result"
    }
   ],
   "source": [
    "import lyncs as ly\n",
    "lattice = ly.Lattice(dims=4, dofs=\"QCD\")\n",
    "lattice"
   ]
  },
  {
   "cell_type": "markdown",
   "metadata": {
    "ipub": {
     "slide": true
    }
   },
   "source": [
    "We have created a four dimensional lattice with dimensions (x,y,z,t) and with the degree of freedom of QCD, i.e. color and spin.\n",
    "\n",
    "The lattice dimensions and properties can be edited in a simple and flexible manner."
   ]
  },
  {
   "cell_type": "code",
   "execution_count": 2,
   "metadata": {
    "ipub": {
     "code": {
      "asfloat": true,
      "format": {},
      "placement": "H",
      "widefigure": false
     },
     "slide": true,
     "text": {
      "asfloat": true,
      "format": {
       "basicstyle": "\\small"
      },
      "placement": "H",
      "use_ansi": false,
      "widefigure": false
     }
    }
   },
   "outputs": [
    {
     "data": {
      "text/plain": [
       "{'t': 8, 'x': 4, 'y': 4, 'z': 4}"
      ]
     },
     "execution_count": 2,
     "metadata": {},
     "output_type": "execute_result"
    }
   ],
   "source": [
    "lattice.t = 8\n",
    "lattice['x'] = 4\n",
    "lattice.space = 4\n",
    "lattice.dims"
   ]
  },
  {
   "cell_type": "markdown",
   "metadata": {
    "ipub": {
     "slide": true
    },
    "slideshow": {
     "slide_type": "slide"
    }
   },
   "source": [
    "## Field object\n",
    "\n",
    "On the lattice we define fields and they are represented by the `lyncs.Field` object.\n",
    "\n",
    "* A field lives on a set of dimensions and degree-of-freedom  of the lattice.\n",
    "\n",
    "* Basic field types are implemented, e.g. scalar, vector, etc. \n",
    "\n",
    "* Custom fields can be defined from a list of properties of the lattice."
   ]
  },
  {
   "cell_type": "markdown",
   "metadata": {
    "ipub": {
     "slide": true
    },
    "slideshow": {
     "slide_type": "subslide"
    }
   },
   "source": [
    "### Example"
   ]
  },
  {
   "cell_type": "markdown",
   "metadata": {
    "ipub": {
     "slide": true
    },
    "slideshow": {
     "slide_type": "subslide"
    }
   },
   "source": [
    "On the previous lattice we define a field, e.g. a vector type.\n",
    "\n",
    "**NOTE:** the shape order is not significant."
   ]
  },
  {
   "cell_type": "code",
   "execution_count": 3,
   "metadata": {
    "ipub": {
     "code": {
      "asfloat": true,
      "format": {},
      "placement": "H",
      "widefigure": false
     },
     "slide": true,
     "text": {
      "asfloat": true,
      "format": {
       "basicstyle": "\\small"
      },
      "placement": "H",
      "use_ansi": false,
      "widefigure": false
     }
    }
   },
   "outputs": [
    {
     "data": {
      "text/plain": [
       "[('t', 8), ('x', 4), ('y', 4), ('z', 4), ('spin', 4), ('color', 3)]"
      ]
     },
     "execution_count": 3,
     "metadata": {},
     "output_type": "execute_result"
    }
   ],
   "source": [
    "field = ly.Field(lattice=lattice, field_type=\"vector\")\n",
    "field.shape"
   ]
  },
  {
   "cell_type": "markdown",
   "metadata": {
    "ipub": {
     "slide": true
    }
   },
   "source": [
    "**NOTE:** the field has not been allocated and the field content is a Delayed object."
   ]
  },
  {
   "cell_type": "code",
   "execution_count": 4,
   "metadata": {
    "ipub": {
     "code": {
      "asfloat": true,
      "format": {},
      "placement": "H",
      "widefigure": false
     },
     "slide": true,
     "text": {
      "asfloat": true,
      "format": {
       "basicstyle": "\\small"
      },
      "placement": "H",
      "use_ansi": false,
      "widefigure": false
     }
    }
   },
   "outputs": [
    {
     "data": {
      "text/plain": [
       "Delayed('zero_field-ae87cb23fa860034ca5aa7be2f08dabe')"
      ]
     },
     "execution_count": 4,
     "metadata": {},
     "output_type": "execute_result"
    }
   ],
   "source": [
    "field.field"
   ]
  },
  {
   "cell_type": "markdown",
   "metadata": {
    "ipub": {
     "slide": true
    },
    "slideshow": {
     "slide_type": "subslide"
    }
   },
   "source": [
    "### Tunable options"
   ]
  },
  {
   "cell_type": "markdown",
   "metadata": {
    "ipub": {
     "slide": true
    }
   },
   "source": [
    "The field is well defined but has been created only in a lazy manner and will not be allocated or computed until we explicitly ask to evaluate its content.\n",
    "\n",
    "In such way we can postpone decisions on the structure and distribution of the field accordingly to the calculations that will be performed in order to optimize the time to solution.\n",
    "\n",
    "**NOTE:** the field has several tunable options which value will be decided at run-time"
   ]
  },
  {
   "cell_type": "code",
   "execution_count": 5,
   "metadata": {
    "ipub": {
     "code": {
      "asfloat": true,
      "format": {},
      "placement": "H",
      "widefigure": false
     },
     "slide": true,
     "text": {
      "asfloat": true,
      "format": {
       "basicstyle": "\\small"
      },
      "placement": "H",
      "use_ansi": false,
      "widefigure": false
     }
    }
   },
   "outputs": [
    {
     "data": {
      "text/plain": [
       "{'axes_order': Permutation(['t', 'x', 'y', 'z', 'spin', 'color']),\n",
       " 'chunks': ChunksOf({'t': 8, 'x': 4, 'y': 4, 'z': 4})}"
      ]
     },
     "execution_count": 5,
     "metadata": {},
     "output_type": "execute_result"
    }
   ],
   "source": [
    "field.tunable_options"
   ]
  },
  {
   "cell_type": "markdown",
   "metadata": {
    "ipub": {
     "slide": true
    },
    "slideshow": {
     "slide_type": "subslide"
    }
   },
   "source": [
    "### Computational graph"
   ]
  },
  {
   "cell_type": "markdown",
   "metadata": {
    "ipub": {
     "slide": true
    }
   },
   "source": [
    "The list of computations is represented by a graph that can be easily visualized and optimized."
   ]
  },
  {
   "cell_type": "code",
   "execution_count": 6,
   "metadata": {
    "ipub": {
     "figure": {
      "placement": "H",
      "widefigure": true
     },
     "slide": true
    }
   },
   "outputs": [
    {
     "data": {
      "image/png": "[encoded data removed]",
      "text/plain": [
       "<IPython.core.display.Image object>"
      ]
     },
     "execution_count": 6,
     "metadata": {},
     "output_type": "execute_result"
    }
   ],
   "source": [
    "field.visualize()"
   ]
  },
  {
   "cell_type": "markdown",
   "metadata": {
    "ipub": {
     "slide": true
    },
    "slideshow": {
     "slide_type": "subslide"
    }
   },
   "source": [
    "### Tuning options"
   ]
  },
  {
   "cell_type": "markdown",
   "metadata": {
    "ipub": {
     "slide": true
    }
   },
   "source": [
    "A not tuned property of the field is a delayed attribute."
   ]
  },
  {
   "cell_type": "code",
   "execution_count": 7,
   "metadata": {
    "ipub": {
     "code": {
      "asfloat": true,
      "format": {},
      "placement": "H",
      "widefigure": false
     },
     "slide": true,
     "text": {
      "asfloat": true,
      "format": {
       "basicstyle": "\\small"
      },
      "placement": "H",
      "use_ansi": false,
      "widefigure": false
     }
    }
   },
   "outputs": [
    {
     "data": {
      "text/plain": [
       "Delayed('getattr-87832d021dfc73034feb76da20ed0c05')"
      ]
     },
     "execution_count": 7,
     "metadata": {},
     "output_type": "execute_result"
    }
   ],
   "source": [
    "field.axes_order"
   ]
  },
  {
   "cell_type": "markdown",
   "metadata": {
    "ipub": {
     "slide": true
    }
   },
   "source": [
    "When the value of a tunable option is set or tuned, this becomes a tuned option and cannot be changed anymore."
   ]
  },
  {
   "cell_type": "code",
   "execution_count": 8,
   "metadata": {
    "ipub": {
     "code": {
      "asfloat": true,
      "format": {},
      "placement": "H",
      "widefigure": false
     },
     "slide": true,
     "text": {
      "asfloat": true,
      "format": {
       "basicstyle": "\\small"
      },
      "placement": "H",
      "use_ansi": false,
      "widefigure": false
     }
    }
   },
   "outputs": [
    {
     "data": {
      "text/plain": [
       "{'axes_order': ['t', 'x', 'y', 'z', 'spin', 'color'],\n",
       " 'chunks': {'t': 2, 'x': 2, 'y': 2}}"
      ]
     },
     "execution_count": 8,
     "metadata": {},
     "output_type": "execute_result"
    }
   ],
   "source": [
    "field.axes_order.tune()\n",
    "field.chunks = {'t':2, 'x':2, 'y':2}\n",
    "field.tuned_options"
   ]
  },
  {
   "cell_type": "markdown",
   "metadata": {
    "ipub": {
     "slide": true
    },
    "slideshow": {
     "slide_type": "subslide"
    }
   },
   "source": [
    "### Resolution of the graph"
   ]
  },
  {
   "cell_type": "markdown",
   "metadata": {
    "ipub": {
     "slide": true
    }
   },
   "source": [
    "Now that all the tunable options have been computed, the field is well defined."
   ]
  },
  {
   "cell_type": "code",
   "execution_count": 9,
   "metadata": {
    "ipub": {
     "code": {
      "asfloat": true,
      "format": {},
      "placement": "H",
      "widefigure": false
     },
     "figure": {
      "placement": "H",
      "widefigure": true
     },
     "slide": true
    }
   },
   "outputs": [
    {
     "data": {
      "text/html": [
       "<table>\n",
       "<tr>\n",
       "<td>\n",
       "<table>\n",
       "  <thead>\n",
       "    <tr><td> </td><th> Array </th><th> Chunk </th></tr>\n",
       "  </thead>\n",
       "  <tbody>\n",
       "    <tr><th> Bytes </th><td> 98.30 kB </td> <td> 6.14 kB </td></tr>\n",
       "    <tr><th> Shape </th><td> (8, 4, 4, 4, 4, 3) </td> <td> (2, 2, 2, 4, 4, 3) </td></tr>\n",
       "    <tr><th> Count </th><td> 16 Tasks </td><td> 16 Chunks </td></tr>\n",
       "    <tr><th> Type </th><td> complex128 </td><td> numpy.ndarray </td></tr>\n",
       "  </tbody>\n",
       "</table>\n",
       "</td>\n",
       "<td>\n",
       "<svg width=\"550\" height=\"180\" style=\"stroke:rgb(0,0,0);stroke-width:1\" >\n",
       "\n",
       "  <!-- Horizontal lines -->\n",
       "  <line x1=\"10\" y1=\"0\" x2=\"80\" y2=\"70\" style=\"stroke-width:2\" />\n",
       "  <line x1=\"10\" y1=\"30\" x2=\"80\" y2=\"100\" />\n",
       "  <line x1=\"10\" y1=\"60\" x2=\"80\" y2=\"130\" style=\"stroke-width:2\" />\n",
       "\n",
       "  <!-- Vertical lines -->\n",
       "  <line x1=\"10\" y1=\"0\" x2=\"10\" y2=\"60\" style=\"stroke-width:2\" />\n",
       "  <line x1=\"27\" y1=\"17\" x2=\"27\" y2=\"77\" />\n",
       "  <line x1=\"45\" y1=\"35\" x2=\"45\" y2=\"95\" />\n",
       "  <line x1=\"62\" y1=\"52\" x2=\"62\" y2=\"112\" />\n",
       "  <line x1=\"80\" y1=\"70\" x2=\"80\" y2=\"130\" style=\"stroke-width:2\" />\n",
       "\n",
       "  <!-- Colored Rectangle -->\n",
       "  <polygon points=\"10.000000,0.000000 80.588235,70.588235 80.588235,130.588235 10.000000,60.000000\" style=\"fill:#ECB172A0;stroke-width:0\"/>\n",
       "\n",
       "  <!-- Horizontal lines -->\n",
       "  <line x1=\"10\" y1=\"0\" x2=\"70\" y2=\"0\" style=\"stroke-width:2\" />\n",
       "  <line x1=\"27\" y1=\"17\" x2=\"87\" y2=\"17\" />\n",
       "  <line x1=\"45\" y1=\"35\" x2=\"105\" y2=\"35\" />\n",
       "  <line x1=\"62\" y1=\"52\" x2=\"122\" y2=\"52\" />\n",
       "  <line x1=\"80\" y1=\"70\" x2=\"140\" y2=\"70\" style=\"stroke-width:2\" />\n",
       "\n",
       "  <!-- Vertical lines -->\n",
       "  <line x1=\"10\" y1=\"0\" x2=\"80\" y2=\"70\" style=\"stroke-width:2\" />\n",
       "  <line x1=\"40\" y1=\"0\" x2=\"110\" y2=\"70\" />\n",
       "  <line x1=\"70\" y1=\"0\" x2=\"140\" y2=\"70\" style=\"stroke-width:2\" />\n",
       "\n",
       "  <!-- Colored Rectangle -->\n",
       "  <polygon points=\"10.000000,0.000000 70.000000,0.000000 140.588235,70.588235 80.588235,70.588235\" style=\"fill:#ECB172A0;stroke-width:0\"/>\n",
       "\n",
       "  <!-- Horizontal lines -->\n",
       "  <line x1=\"80\" y1=\"70\" x2=\"140\" y2=\"70\" style=\"stroke-width:2\" />\n",
       "  <line x1=\"80\" y1=\"100\" x2=\"140\" y2=\"100\" />\n",
       "  <line x1=\"80\" y1=\"130\" x2=\"140\" y2=\"130\" style=\"stroke-width:2\" />\n",
       "\n",
       "  <!-- Vertical lines -->\n",
       "  <line x1=\"80\" y1=\"70\" x2=\"80\" y2=\"130\" style=\"stroke-width:2\" />\n",
       "  <line x1=\"110\" y1=\"70\" x2=\"110\" y2=\"130\" />\n",
       "  <line x1=\"140\" y1=\"70\" x2=\"140\" y2=\"130\" style=\"stroke-width:2\" />\n",
       "\n",
       "  <!-- Colored Rectangle -->\n",
       "  <polygon points=\"80.588235,70.588235 140.588235,70.588235 140.588235,130.588235 80.588235,130.588235\" style=\"fill:#ECB172A0;stroke-width:0\"/>\n",
       "\n",
       "  <!-- Text -->\n",
       "  <text x=\"110.588235\" y=\"150.588235\" font-size=\"1.0rem\" font-weight=\"100\" text-anchor=\"middle\" >4</text>\n",
       "  <text x=\"160.588235\" y=\"100.588235\" font-size=\"1.0rem\" font-weight=\"100\" text-anchor=\"middle\" transform=\"rotate(0,160.588235,100.588235)\">4</text>\n",
       "  <text x=\"35.294118\" y=\"115.294118\" font-size=\"1.0rem\" font-weight=\"100\" text-anchor=\"middle\" transform=\"rotate(45,35.294118,115.294118)\">8</text>\n",
       "\n",
       "\n",
       "  <!-- Horizontal lines -->\n",
       "  <line x1=\"210\" y1=\"0\" x2=\"245\" y2=\"35\" style=\"stroke-width:2\" />\n",
       "  <line x1=\"210\" y1=\"60\" x2=\"245\" y2=\"95\" style=\"stroke-width:2\" />\n",
       "\n",
       "  <!-- Vertical lines -->\n",
       "  <line x1=\"210\" y1=\"0\" x2=\"210\" y2=\"60\" style=\"stroke-width:2\" />\n",
       "  <line x1=\"245\" y1=\"35\" x2=\"245\" y2=\"95\" style=\"stroke-width:2\" />\n",
       "\n",
       "  <!-- Colored Rectangle -->\n",
       "  <polygon points=\"210.000000,0.000000 245.294118,35.294118 245.294118,95.294118 210.000000,60.000000\" style=\"fill:#ECB172A0;stroke-width:0\"/>\n",
       "\n",
       "  <!-- Horizontal lines -->\n",
       "  <line x1=\"210\" y1=\"0\" x2=\"255\" y2=\"0\" style=\"stroke-width:2\" />\n",
       "  <line x1=\"245\" y1=\"35\" x2=\"290\" y2=\"35\" style=\"stroke-width:2\" />\n",
       "\n",
       "  <!-- Vertical lines -->\n",
       "  <line x1=\"210\" y1=\"0\" x2=\"245\" y2=\"35\" style=\"stroke-width:2\" />\n",
       "  <line x1=\"255\" y1=\"0\" x2=\"290\" y2=\"35\" style=\"stroke-width:2\" />\n",
       "\n",
       "  <!-- Colored Rectangle -->\n",
       "  <polygon points=\"210.000000,0.000000 255.000000,0.000000 290.294118,35.294118 245.294118,35.294118\" style=\"fill:#ECB172A0;stroke-width:0\"/>\n",
       "\n",
       "  <!-- Horizontal lines -->\n",
       "  <line x1=\"245\" y1=\"35\" x2=\"290\" y2=\"35\" style=\"stroke-width:2\" />\n",
       "  <line x1=\"245\" y1=\"95\" x2=\"290\" y2=\"95\" style=\"stroke-width:2\" />\n",
       "\n",
       "  <!-- Vertical lines -->\n",
       "  <line x1=\"245\" y1=\"35\" x2=\"245\" y2=\"95\" style=\"stroke-width:2\" />\n",
       "  <line x1=\"290\" y1=\"35\" x2=\"290\" y2=\"95\" style=\"stroke-width:2\" />\n",
       "\n",
       "  <!-- Colored Rectangle -->\n",
       "  <polygon points=\"245.294118,35.294118 290.294118,35.294118 290.294118,95.294118 245.294118,95.294118\" style=\"fill:#ECB172A0;stroke-width:0\"/>\n",
       "\n",
       "  <!-- Text -->\n",
       "  <text x=\"267.794118\" y=\"115.294118\" font-size=\"1.0rem\" font-weight=\"100\" text-anchor=\"middle\" >3</text>\n",
       "  <text x=\"310.294118\" y=\"65.294118\" font-size=\"1.0rem\" font-weight=\"100\" text-anchor=\"middle\" transform=\"rotate(0,310.294118,65.294118)\">4</text>\n",
       "  <text x=\"217.647059\" y=\"97.647059\" font-size=\"1.0rem\" font-weight=\"100\" text-anchor=\"middle\" transform=\"rotate(45,217.647059,97.647059)\">4</text>\n",
       "</svg>\n",
       "</td>\n",
       "</tr>\n",
       "</table>"
      ],
      "text/plain": [
       "dask.array<zeros, shape=(8, 4, 4, 4, 4, 3), dtype=complex128, chunksize=(2, 2, 2, 4, 4, 3), chunktype=numpy.ndarray>"
      ]
     },
     "execution_count": 9,
     "metadata": {},
     "output_type": "execute_result"
    }
   ],
   "source": [
    "field.field"
   ]
  },
  {
   "cell_type": "markdown",
   "metadata": {
    "ipub": {
     "slide": true
    }
   },
   "source": [
    "# Lyncs high-level framework\n",
    "\n",
    "In lyncs we try as much as possible to deduce at runtime information about the run providing a very user-friendly framework."
   ]
  },
  {
   "cell_type": "markdown",
   "metadata": {
    "ipub": {
     "slide": true
    }
   },
   "source": [
    "## Example"
   ]
  },
  {
   "cell_type": "markdown",
   "metadata": {
    "ipub": {
     "slide": true
    }
   },
   "source": [
    "Loading a gauge-configuration from a stored file does not require any information about the lattice or the file format (e.g. 'lime' in the following case) and these will be automatically deduced at runtime."
   ]
  },
  {
   "cell_type": "code",
   "execution_count": 10,
   "metadata": {
    "ipub": {
     "code": {
      "asfloat": true,
      "format": {},
      "placement": "H",
      "widefigure": false
     },
     "slide": true,
     "text": {
      "asfloat": true,
      "format": {
       "basicstyle": "\\small"
      },
      "placement": "H",
      "use_ansi": false,
      "widefigure": false
     }
    }
   },
   "outputs": [
    {
     "data": {
      "text/plain": [
       "Field(field = Delayed('read_field-0272a71e6f99492bf966716676157a78'),\n",
       "      lattice = Lattice(dims = {'t': 4, 'x': 4, 'y': 4, 'z': 4},\n",
       "                        dofs = {'spin': 4, 'color': 3},\n",
       "                        properties = {'time': ['t'], 'space': ['x', 'y', 'z'], 'gauge_dofs': ['color']}),\n",
       "      field_type = 'gauge_links',\n",
       "      dtype = dtype('complex128'),\n",
       "      coords = {},\n",
       "      labels = {'t': {'n_dims': [0]}, 'x': {'n_dims': [3]}, 'y': {'n_dims': [2]}, 'z': {'n_dims': [1]}},\n",
       "      tunable_options = {'chunks': ChunksOf({'t': 4, 'x': 4, 'y': 4, 'z': 4})},\n",
       "      tuned_options = {'dirs_order': ['t', 'z', 'y', 'x'], 'axes_order': ['t', 'z', 'y', 'x', 'n_dims', 'color', 'color'], 'color_order': 'row_major'})"
      ]
     },
     "execution_count": 10,
     "metadata": {},
     "output_type": "execute_result"
    }
   ],
   "source": [
    "import lyncs as ly\n",
    "conf_path = \"conf.1000\"\n",
    "gauge_conf = ly.load(conf_path)\n",
    "gauge_conf"
   ]
  },
  {
   "cell_type": "markdown",
   "metadata": {
    "ipub": {
     "slide": true
    }
   },
   "source": [
    "**NOTE:** the tuned options are due to the data format."
   ]
  },
  {
   "cell_type": "markdown",
   "metadata": {
    "ipub": {
     "slide": true
    }
   },
   "source": [
    "### Delayed reading"
   ]
  },
  {
   "cell_type": "markdown",
   "metadata": {
    "ipub": {
     "slide": true
    }
   },
   "source": [
    "**NOTE:** again the field has been created lazily postponing the reading of the data content in a next step (\\`Delayed('read_array-...')\\`)."
   ]
  },
  {
   "cell_type": "code",
   "execution_count": 11,
   "metadata": {
    "ipub": {
     "code": {
      "asfloat": true,
      "format": {},
      "placement": "H",
      "widefigure": false
     },
     "slide": true,
     "text": {
      "asfloat": true,
      "format": {
       "basicstyle": "\\small"
      },
      "placement": "H",
      "use_ansi": false,
      "widefigure": false
     }
    }
   },
   "outputs": [
    {
     "data": {
      "text/plain": [
       "Delayed('read_field-0272a71e6f99492bf966716676157a78')"
      ]
     },
     "execution_count": 11,
     "metadata": {},
     "output_type": "execute_result"
    }
   ],
   "source": [
    "gauge_conf.field"
   ]
  },
  {
   "cell_type": "code",
   "execution_count": 12,
   "metadata": {
    "ipub": {
     "figure": {
      "placement": "H",
      "widefigure": true
     },
     "slide": true
    }
   },
   "outputs": [
    {
     "data": {
      "image/png": "[encoded data removed]",
      "text/plain": [
       "<IPython.core.display.Image object>"
      ]
     },
     "execution_count": 12,
     "metadata": {},
     "output_type": "execute_result"
    }
   ],
   "source": [
    "gauge_conf.visualize()"
   ]
  },
  {
   "cell_type": "markdown",
   "metadata": {
    "ipub": {
     "slide": true
    }
   },
   "source": [
    "### After fixing the chunks"
   ]
  },
  {
   "cell_type": "code",
   "execution_count": 13,
   "metadata": {
    "ipub": {
     "figure": {
      "placement": "H",
      "widefigure": true
     },
     "slide": true
    }
   },
   "outputs": [
    {
     "data": {
      "image/png": "[encoded data removed]",
      "text/plain": [
       "<IPython.core.display.Image object>"
      ]
     },
     "execution_count": 13,
     "metadata": {},
     "output_type": "execute_result"
    }
   ],
   "source": [
    "gauge_conf.chunks = {'x': 2, 'y': 2}\n",
    "gauge_conf.visualize()"
   ]
  },
  {
   "cell_type": "code",
   "execution_count": null,
   "metadata": {},
   "outputs": [],
   "source": []
  }
 ],
 "metadata": {
  "ipub": {
   "titlepage": {
    "author": "Simone Bacchio",
    "email": "s.bacchio@gmail.com",
    "institution": [
     "The Cyprus Institute"
    ],
    "subtitle": "A Python API for Lattice QCD applications",
    "title": "Lyncs"
   }
  },
  "kernelspec": {
   "display_name": "Python 3",
   "language": "python",
   "name": "python3"
  },
  "language_info": {
   "codemirror_mode": {
    "name": "ipython",
    "version": 3
   },
   "file_extension": ".py",
   "mimetype": "text/x-python",
   "name": "python",
   "nbconvert_exporter": "python",
   "pygments_lexer": "ipython3",
   "version": "3.6.9"
  }
 },
 "nbformat": 4,
 "nbformat_minor": 4
}
