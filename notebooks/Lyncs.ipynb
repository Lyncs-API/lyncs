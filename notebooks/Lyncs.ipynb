{
 "cells": [
  {
   "cell_type": "markdown",
   "metadata": {},
   "source": [
    "# Introduction to Lyncs\n",
    "\n",
    "This is an introductory notebook to Lyncs.\n",
    "\n",
    "It contains some examples describing the main features of the API.\n",
    "\n",
    "Lyncs is a Python API for lattice field theory simulations with the main focus on lattice QCD.\n",
    "\n",
    "The lattice field thaory is represented by the `lyncs.Lattice` object. It contains all the information needed for the simulation."
   ]
  },
  {
   "cell_type": "code",
   "execution_count": 1,
   "metadata": {},
   "outputs": [
    {
     "data": {
      "text/plain": [
       "Lattice(dims = {'t': 1, 'x': 1, 'y': 1, 'z': 1},\n",
       "        dofs = {'spin': 4, 'color': 3},\n",
       "        dtype = dtype('complex128'),\n",
       "        properties = {'time': ['t'], 'space': ['x', 'y', 'z'], 'gauge_dofs': ['color']})"
      ]
     },
     "execution_count": 1,
     "metadata": {},
     "output_type": "execute_result"
    }
   ],
   "source": [
    "import lyncs as ly\n",
    "lattice = ly.Lattice(dims=4, dofs=\"QCD\")\n",
    "lattice"
   ]
  },
  {
   "cell_type": "code",
   "execution_count": 2,
   "metadata": {},
   "outputs": [
    {
     "data": {
      "text/plain": [
       "Lattice(dims = {'t': 8, 'x': 4, 'y': 4, 'z': 4},\n",
       "        dofs = {'spin': 4, 'color': 3},\n",
       "        dtype = dtype('complex128'),\n",
       "        properties = {'time': ['t'], 'space': ['x', 'y', 'z'], 'gauge_dofs': ['color']})"
      ]
     },
     "execution_count": 2,
     "metadata": {},
     "output_type": "execute_result"
    }
   ],
   "source": [
    "lattice.t = 8\n",
    "lattice['x'] = 4\n",
    "lattice.space = 4\n",
    "lattice"
   ]
  },
  {
   "cell_type": "code",
   "execution_count": 6,
   "metadata": {},
   "outputs": [
    {
     "data": {
      "text/plain": [
       "[('t', 8), ('x', 4), ('y', 4), ('z', 4), ('spin', 4), ('color', 3)]"
      ]
     },
     "execution_count": 6,
     "metadata": {},
     "output_type": "execute_result"
    }
   ],
   "source": [
    "field = ly.Field(lattice=lattice, field_type=\"vector\")\n",
    "field.shape"
   ]
  },
  {
   "cell_type": "code",
   "execution_count": 7,
   "metadata": {},
   "outputs": [
    {
     "data": {
      "text/plain": [
       "Field(array = Delayed('Field-bf3521f2-3ef7-438f-8225-101b135dc916'),\n",
       "      lattice = Lattice(dims = {'t': 8, 'x': 4, 'y': 4, 'z': 4},\n",
       "                        dofs = {'spin': 4, 'color': 3},\n",
       "                        dtype = dtype('complex128'),\n",
       "                        properties = {'time': ['t'], 'space': ['x', 'y', 'z'], 'gauge_dofs': ['color']}),\n",
       "      field_type = 'vector',\n",
       "      extra_options = {})"
      ]
     },
     "execution_count": 7,
     "metadata": {},
     "output_type": "execute_result"
    }
   ],
   "source": [
    "field"
   ]
  },
  {
   "cell_type": "code",
   "execution_count": 5,
   "metadata": {},
   "outputs": [
    {
     "data": {
      "text/plain": [
       "Field(array = Delayed('read_data-da8e05b8-867c-44ef-b47f-0da45e84f155'),\n",
       "      lattice = Lattice(dims = {'t': 4, 'x': 4, 'y': 4, 'z': 4},\n",
       "                        dofs = {'spin': 4, 'color': 3},\n",
       "                        dtype = dtype('complex128'),\n",
       "                        properties = {'time': ['t'], 'space': ['x', 'y', 'z'], 'gauge_dofs': ['color']}),\n",
       "      field_type = 'gauge_links',\n",
       "      extra_options = {})"
      ]
     },
     "execution_count": 5,
     "metadata": {},
     "output_type": "execute_result"
    }
   ],
   "source": [
    "ly.load(\"conf.1000\")"
   ]
  },
  {
   "cell_type": "code",
   "execution_count": 2,
   "metadata": {},
   "outputs": [
    {
     "data": {
      "text/plain": [
       "Field(array = Delayed('Field-1c03dc0b-4568-49f4-8f45-18f6731fdeca'),\n",
       "      lattice = Lattice(dims = {'t': 1, 'x': 1, 'y': 1, 'z': 1},\n",
       "                        dofs = {'spin': 4, 'color': 3},\n",
       "                        dtype = dtype('complex64'),\n",
       "                        properties = {'gauge_dofs': ['color']}),\n",
       "      field_type = 'vector',\n",
       "      extra_options = {})"
      ]
     },
     "execution_count": 2,
     "metadata": {},
     "output_type": "execute_result"
    }
   ],
   "source": [
    "field = ly.Field(lattice=lattice, field_type=\"vector\")\n",
    "field"
   ]
  },
  {
   "cell_type": "code",
   "execution_count": null,
   "metadata": {},
   "outputs": [],
   "source": []
  }
 ],
 "metadata": {
  "kernelspec": {
   "display_name": "Python 3",
   "language": "python",
   "name": "python3"
  },
  "language_info": {
   "codemirror_mode": {
    "name": "ipython",
    "version": 3
   },
   "file_extension": ".py",
   "mimetype": "text/x-python",
   "name": "python",
   "nbconvert_exporter": "python",
   "pygments_lexer": "ipython3",
   "version": "3.6.9"
  }
 },
 "nbformat": 4,
 "nbformat_minor": 4
}
