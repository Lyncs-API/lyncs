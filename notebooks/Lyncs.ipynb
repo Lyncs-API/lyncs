{
 "cells": [
  {
   "cell_type": "markdown",
   "metadata": {},
   "source": [
    "# Introduction to Lyncs\n",
    "\n",
    "This is an introductory presentation to Lyncs.\n",
    "\n",
    "It contains some examples describing the main features of the API.\n",
    "\n",
    "Lyncs is a Python API for lattice field theory simulations with a main focus on lattice QCD.\n",
    "\n",
    "## Lyncs lattice and field objects\n",
    "\n",
    "The lattice field theory is represented by the `lyncs.Lattice` object. \n",
    "It contains all the information needed for performing a simulation or lattice measurements."
   ]
  },
  {
   "cell_type": "code",
   "execution_count": 1,
   "metadata": {},
   "outputs": [
    {
     "data": {
      "text/plain": [
       "Lattice(dims = {'t': 1, 'x': 1, 'y': 1, 'z': 1},\n",
       "        dofs = {'spin': 4, 'color': 3},\n",
       "        dtype = dtype('complex128'),\n",
       "        properties = {'time': ['t'], 'space': ['x', 'y', 'z'], 'gauge_dofs': ['color']})"
      ]
     },
     "execution_count": 1,
     "metadata": {},
     "output_type": "execute_result"
    }
   ],
   "source": [
    "import lyncs as ly\n",
    "lattice = ly.Lattice(dims=4, dofs=\"QCD\")\n",
    "lattice"
   ]
  },
  {
   "cell_type": "markdown",
   "metadata": {},
   "source": [
    "Lyncs objects have always a representation, e.g. `repr(lattice)`, that contains all the information included in the object. \n",
    "\n",
    "Here we have created a four dimensional lattice with dimensions (x,y,z,t) and with the degree of freedom of QCD, i.e. color and spin.\n",
    "\n",
    "The lattice dimensions and properties can be edited in a very simple and flexible manner as follows."
   ]
  },
  {
   "cell_type": "code",
   "execution_count": 2,
   "metadata": {},
   "outputs": [
    {
     "data": {
      "text/plain": [
       "Lattice(dims = {'t': 8, 'x': 4, 'y': 4, 'z': 4},\n",
       "        dofs = {'spin': 4, 'color': 3},\n",
       "        dtype = dtype('complex128'),\n",
       "        properties = {'time': ['t'], 'space': ['x', 'y', 'z'], 'gauge_dofs': ['color']})"
      ]
     },
     "execution_count": 2,
     "metadata": {},
     "output_type": "execute_result"
    }
   ],
   "source": [
    "lattice.t = 8\n",
    "lattice['x'] = 4\n",
    "lattice.space = 4\n",
    "lattice"
   ]
  },
  {
   "cell_type": "markdown",
   "metadata": {},
   "source": [
    "On a lattice we define fields. This can be done with the `lyncs.field` object.\n",
    "\n",
    "Several field types are implemented, e.g. vector, propagator, gauge_links, etc.\n",
    "\n",
    "Or a custom one can be defined by giving a list of properties of the lattice."
   ]
  },
  {
   "cell_type": "code",
   "execution_count": 3,
   "metadata": {},
   "outputs": [
    {
     "data": {
      "text/plain": [
       "[('t', 8), ('x', 4), ('y', 4), ('z', 4), ('spin', 4), ('color', 3)]"
      ]
     },
     "execution_count": 3,
     "metadata": {},
     "output_type": "execute_result"
    }
   ],
   "source": [
    "field = ly.Field(lattice=lattice, field_type=\"vector\")\n",
    "field.shape"
   ]
  },
  {
   "cell_type": "markdown",
   "metadata": {},
   "source": [
    "Above we have the shape of the field and here belove the representation of the field."
   ]
  },
  {
   "cell_type": "code",
   "execution_count": 4,
   "metadata": {},
   "outputs": [
    {
     "data": {
      "text/plain": [
       "Field(array = Delayed('Field-2c7a66b6-cdf9-4771-b2e4-a5d9f4d28c38'),\n",
       "      lattice = Lattice(dims = {'t': 8, 'x': 4, 'y': 4, 'z': 4},\n",
       "                        dofs = {'spin': 4, 'color': 3},\n",
       "                        dtype = dtype('complex128'),\n",
       "                        properties = {'time': ['t'], 'space': ['x', 'y', 'z'], 'gauge_dofs': ['color']}),\n",
       "      field_type = 'vector',\n",
       "      extra_options = {})"
      ]
     },
     "execution_count": 4,
     "metadata": {},
     "output_type": "execute_result"
    }
   ],
   "source": [
    "field"
   ]
  },
  {
   "cell_type": "markdown",
   "metadata": {},
   "source": [
    "We note that the field has not been allocated yet and its array content is a Dask Delayed object.\n",
    "\n",
    "This means that the field has been created in a lazy manner and will not be allocated and computed until we explicitly ask to evaluate its content.\n",
    "\n",
    "In this way we can postpone decisions on the structure and distribution of the field accordingly to the calculations that will be performed on it in order to optimize the time to solution."
   ]
  },
  {
   "cell_type": "markdown",
   "metadata": {},
   "source": [
    "## Lyncs high-level framework\n",
    "\n",
    "In lyncs we try as much as possible to deduce at runtime information about the run providing a very user-friendly framework.\n",
    "\n",
    "For instance when one needs to load a gauge-configuration from a stored file, one does not need to provide any information about the lattice or the file format (e.g. 'lime' in the following case) and these will be automatically deduced at runtime."
   ]
  },
  {
   "cell_type": "code",
   "execution_count": 11,
   "metadata": {},
   "outputs": [
    {
     "data": {
      "text/plain": [
       "Field(array = Delayed('read_data-cead9113-8b62-4a8d-a337-866d786b6cd1'),\n",
       "      lattice = Lattice(dims = {'t': 4, 'x': 4, 'y': 4, 'z': 4},\n",
       "                        dofs = {'spin': 4, 'color': 3},\n",
       "                        dtype = dtype('complex128'),\n",
       "                        properties = {'time': ['t'], 'space': ['x', 'y', 'z'], 'gauge_dofs': ['color']}),\n",
       "      field_type = 'gauge_links',\n",
       "      extra_options = {})"
      ]
     },
     "execution_count": 11,
     "metadata": {},
     "output_type": "execute_result"
    }
   ],
   "source": [
    "conf_path = \n",
    "gauge_conf = ly.load(ly.__path__[0]+\"/../tests/conf.1000\")\n",
    "gauge_conf"
   ]
  },
  {
   "cell_type": "markdown",
   "metadata": {},
   "source": [
    "Again the field has been created lazily postponing the reading of the data content in a next step (`Delayed('read_data-...')`).\n",
    "\n",
    "On the other hand all the information needed for proceeding have been extracted from the file and the field object is well defined."
   ]
  },
  {
   "cell_type": "code",
   "execution_count": 6,
   "metadata": {},
   "outputs": [
    {
     "data": {
      "text/plain": [
       "[('t', 4),\n",
       " ('x', 4),\n",
       " ('y', 4),\n",
       " ('z', 4),\n",
       " ('color', 3),\n",
       " ('color', 3),\n",
       " ('n_dims', 4)]"
      ]
     },
     "execution_count": 6,
     "metadata": {},
     "output_type": "execute_result"
    }
   ],
   "source": [
    "gauge_conf.shape"
   ]
  },
  {
   "cell_type": "code",
   "execution_count": 8,
   "metadata": {},
   "outputs": [
    {
     "data": {
      "text/plain": [
       "['/home/Simone/.local/src/lyncs/lyncs']"
      ]
     },
     "execution_count": 8,
     "metadata": {},
     "output_type": "execute_result"
    }
   ],
   "source": [
    "ly.__path__"
   ]
  },
  {
   "cell_type": "code",
   "execution_count": null,
   "metadata": {},
   "outputs": [],
   "source": []
  }
 ],
 "metadata": {
  "kernelspec": {
   "display_name": "Python 3",
   "language": "python",
   "name": "python3"
  },
  "language_info": {
   "codemirror_mode": {
    "name": "ipython",
    "version": 3
   },
   "file_extension": ".py",
   "mimetype": "text/x-python",
   "name": "python",
   "nbconvert_exporter": "python",
   "pygments_lexer": "ipython3",
   "version": "3.6.9"
  }
 },
 "nbformat": 4,
 "nbformat_minor": 4
}
